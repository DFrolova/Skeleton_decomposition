{
 "cells": [
  {
   "cell_type": "code",
   "execution_count": 2,
   "metadata": {},
   "outputs": [],
   "source": [
    "import numpy as np\n",
    "from sklearn.datasets import make_low_rank_matrix\n",
    "from scipy import sparse\n",
    "import scipy.sparse as spsp\n",
    "import scipy as sp\n",
    "import scipy.sparse\n",
    "from scipy.sparse.linalg import norm\n",
    "from scipy.sparse.linalg import inv\n",
    "import pandas as pd\n",
    "from scipy.special import lambertw\n",
    "from copy import deepcopy"
   ]
  },
  {
   "cell_type": "markdown",
   "metadata": {},
   "source": [
    "## Ridge leverage"
   ]
  },
  {
   "cell_type": "code",
   "execution_count": 213,
   "metadata": {},
   "outputs": [],
   "source": [
    "def ridge_sampling(A, t):\n",
    "    eps = 1e-8\n",
    "    indexes = np.random.choice(A.shape[1], A.shape[1] // 2, replace=False)\n",
    "    Cu = A[:, indexes]\n",
    "    if Cu.shape[1] // 2 > 5 * t:\n",
    "        Cu, indexes = ridge_sampling(Cu, int(5 * t))\n",
    "    \n",
    "    k = int(np.exp(lambertw(t)).real)\n",
    "    if scipy.sparse.issparse(A):\n",
    "        U, s, Vt = scipy.sparse.linalg.svds(Cu, k=k)\n",
    "    else:\n",
    "        U, s, Vt = np.linalg.svd(Cu, full_matrices=False)\n",
    "        U, s, Vt = U[:, :k], s[:k], Vt[:k, :]\n",
    "        \n",
    "    lmbda = np.linalg.norm(Cu - (U * s) @ Vt) ** 2 / k\n",
    "    matrix_for_scores = np.linalg.pinv(Cu @ Cu.T + lmbda * np.eye(Cu.shape[0]))\n",
    "    \n",
    "    ridge_scores = np.zeros(Cu.shape[1])\n",
    "    for i in range(Cu.shape[1]):\n",
    "        ridge_scores[i] = Cu[:, i].T @ matrix_for_scores @ Cu[:, i]\n",
    "\n",
    "    ridge_scores += eps\n",
    "    ridge_scores /= np.sum(ridge_scores)\n",
    "    \n",
    "    final_indexes = np.random.choice(indexes, t, replace=False, p=ridge_scores)\n",
    "    return A[:, final_indexes], final_indexes\n",
    "\n",
    "def get_CUR_ridge(A, k):\n",
    "    C, col_ind = ridge_sampling(A, k)\n",
    "    R, row_ind = ridge_sampling(A.T, k)\n",
    "    R = R.T\n",
    "    if scipy.sparse.issparse(A):\n",
    "        U = np.linalg.pinv(C.toarray()) @ A @ np.linalg.pinv(R.toarray())\n",
    "    else:\n",
    "        U = np.linalg.pinv(C) @ A @ np.linalg.pinv(R)\n",
    "    return C, U, R"
   ]
  },
  {
   "cell_type": "code",
   "execution_count": 214,
   "metadata": {},
   "outputs": [],
   "source": [
    "def ridge_sampling_randomized(A, t):\n",
    "    eps = 1e-8\n",
    "    indexes = np.random.choice(A.shape[1], A.shape[1] // 2, replace=False)\n",
    "    Cu = A[:, indexes]\n",
    "    if Cu.shape[1] // 2 > 5 * t:\n",
    "        Cu, indexes = ridge_sampling_randomized(Cu, int(5 * t))\n",
    "    \n",
    "    k = int(np.exp(lambertw(t)).real)\n",
    "    \n",
    "    if scipy.sparse.issparse(A):\n",
    "        U, s, Vt = scipy.sparse.linalg.svds(Cu, k=min(min(Cu.shape) - 1, k))\n",
    "    else:\n",
    "        U, s, Vt = np.linalg.svd(Cu, full_matrices=False)\n",
    "        U, s, Vt = U[:, :k], s[:k], Vt[:k, :]\n",
    "                \n",
    "    lmbda = np.linalg.norm(Cu - (U * s) @ Vt) ** 2 / k\n",
    "    \n",
    "    new_shape = (min(2000, Cu.shape[0]), min(2000, Cu.shape[1]))\n",
    "    if new_shape != Cu.shape: # matrix is too big\n",
    "        niters = 3\n",
    "        row_ind = np.random.choice(Cu.shape[0], new_shape[0], replace=False)\n",
    "        col_ind = np.random.choice(Cu.shape[1], new_shape[1], replace=False)\n",
    "        ridge_scores = np.zeros(Cu.shape[1])\n",
    "        for iter in range(niters):\n",
    "            matrix_for_scores = np.linalg.pinv(Cu[row_ind][:, col_ind] @ Cu[row_ind][:, col_ind].T +\\\n",
    "                                               lmbda * np.eye(new_shape[0]))\n",
    "            ridge_scores_cur = np.zeros(Cu.shape[1])\n",
    "            for i in range(Cu.shape[1]):\n",
    "                ridge_scores_cur[i] = Cu[row_ind, i].T @ matrix_for_scores @ Cu[row_ind, i]\n",
    "            ridge_scores += ridge_scores_cur\n",
    "        \n",
    "        ridge_scores /= niters\n",
    "    \n",
    "    else:\n",
    "        matrix_for_scores = np.linalg.pinv(Cu @ Cu.T + lmbda * np.eye(Cu.shape[0]))\n",
    "    \n",
    "        ridge_scores = np.zeros(Cu.shape[1])\n",
    "        for i in range(Cu.shape[1]):\n",
    "            ridge_scores[i] = Cu[:, i].T @ matrix_for_scores @ Cu[:, i]\n",
    "\n",
    "    ridge_scores += eps\n",
    "    ridge_scores /= np.sum(ridge_scores)\n",
    "    \n",
    "    final_indexes = np.random.choice(indexes, t, replace=False, p=ridge_scores)\n",
    "    return A[:, final_indexes], final_indexes\n",
    "\n",
    "def get_CUR_ridge_randomized(A, k):\n",
    "    C, col_ind = ridge_sampling_randomized(A, k)\n",
    "    R, row_ind = ridge_sampling_randomized(A.T, k)\n",
    "    R = R.T\n",
    "    if scipy.sparse.issparse(A):\n",
    "        U = np.linalg.pinv(C.toarray()) @ A @ np.linalg.pinv(R.toarray())\n",
    "    else:\n",
    "        U = np.linalg.pinv(C) @ A @ np.linalg.pinv(R)\n",
    "    return C, U, R"
   ]
  },
  {
   "cell_type": "code",
   "execution_count": 190,
   "metadata": {},
   "outputs": [],
   "source": [
    "def get_trunc_SVD(A, k):\n",
    "    if scipy.sparse.issparse(A):\n",
    "        U, s, Vt = scipy.sparse.linalg.svds(A, k=k)\n",
    "    else:\n",
    "        U, s, Vt = np.linalg.svd(A)\n",
    "        U, s, Vt = U[:, :k], s[:k], Vt[:k, :]\n",
    "    return U, s, Vt"
   ]
  },
  {
   "cell_type": "code",
   "execution_count": 134,
   "metadata": {},
   "outputs": [],
   "source": [
    "n = 1000\n",
    "k = 20\n",
    "A = sparse.random(n, n, density=0.1, format='csr')\n",
    "U, s, Vt = scipy.sparse.linalg.svds(A, k=k)\n",
    "A = (U * s) @ Vt"
   ]
  },
  {
   "cell_type": "code",
   "execution_count": 164,
   "metadata": {},
   "outputs": [
    {
     "name": "stdout",
     "output_type": "stream",
     "text": [
      "(1000, 100)\n",
      "12.436755474414158\n"
     ]
    }
   ],
   "source": [
    "C, U, R = get_CUR_ridge(A, k)\n",
    "print(C.shape)\n",
    "print(np.linalg.norm(A - C @ U @ R))"
   ]
  },
  {
   "cell_type": "code",
   "execution_count": 197,
   "metadata": {},
   "outputs": [
    {
     "name": "stdout",
     "output_type": "stream",
     "text": [
      "(1000, 250) (1000, 17) (17, 250)\n",
      "(1000, 50) (1000, 5) (5, 50)\n",
      "(1000, 250) (1000, 17) (17, 250)\n",
      "(1000, 50) (1000, 5) (5, 50)\n",
      "(1000, 10)\n",
      "4.610340714718539e-11\n"
     ]
    }
   ],
   "source": [
    "C, U, R = get_CUR_ridge_randomized(A, k)\n",
    "print(C.shape)\n",
    "print(np.linalg.norm(A - C @ U @ R))"
   ]
  },
  {
   "cell_type": "code",
   "execution_count": 138,
   "metadata": {},
   "outputs": [
    {
     "name": "stdout",
     "output_type": "stream",
     "text": [
      "1.1711175755111905e-13\n"
     ]
    }
   ],
   "source": [
    "U, s, Vt = get_trunc_SVD(A, k)\n",
    "print(np.linalg.norm(A - (U * s) @ Vt))"
   ]
  },
  {
   "cell_type": "code",
   "execution_count": 160,
   "metadata": {},
   "outputs": [],
   "source": [
    "A = make_low_rank_matrix(1000, 1000, 100)\n",
    "k = 100"
   ]
  },
  {
   "cell_type": "code",
   "execution_count": 200,
   "metadata": {},
   "outputs": [
    {
     "data": {
      "text/plain": [
       "10"
      ]
     },
     "execution_count": 200,
     "metadata": {},
     "output_type": "execute_result"
    }
   ],
   "source": [
    "k"
   ]
  },
  {
   "cell_type": "markdown",
   "metadata": {},
   "source": [
    "### Naive CUR - baseline"
   ]
  },
  {
   "cell_type": "code",
   "execution_count": 156,
   "metadata": {},
   "outputs": [],
   "source": [
    "def rand_sample(A, k):\n",
    "    _, n = A.shape\n",
    "    cols = np.random.choice(n, k, replace=False)\n",
    "    R = A[:, cols]\n",
    "    return R, cols\n",
    "\n",
    "def get_CUR_naive(A, k):\n",
    "    C, col_ind = rand_sample(A, k)\n",
    "    R, row_ind = rand_sample(A.T, k)\n",
    "    R = R.T\n",
    "    if scipy.sparse.issparse(A):\n",
    "        U = np.linalg.pinv(C.toarray()) @ A @ np.linalg.pinv(R.toarray())\n",
    "    else:\n",
    "        U = np.linalg.pinv(C) @ A @ np.linalg.pinv(R)\n",
    "    return C, U, R"
   ]
  },
  {
   "cell_type": "code",
   "execution_count": 143,
   "metadata": {},
   "outputs": [
    {
     "name": "stdout",
     "output_type": "stream",
     "text": [
      "(1000, 20)\n",
      "3.171890899350402e-12\n"
     ]
    }
   ],
   "source": [
    "C, U, R, col_ind, row_ind = get_CUR_naive(A, k)\n",
    "print(C.shape)\n",
    "print(np.linalg.norm(A - C @ U @ R))"
   ]
  },
  {
   "cell_type": "markdown",
   "metadata": {},
   "source": [
    "### CUR approximation"
   ]
  },
  {
   "cell_type": "code",
   "execution_count": 313,
   "metadata": {},
   "outputs": [],
   "source": [
    "def sample_cols_probs(A, r):\n",
    "    if spsp.issparse(A):\n",
    "        norms = spsp.linalg.norm(A, axis=0)  # норма по стоблцам\n",
    "        norm_A = spsp.linalg.norm(A)\n",
    "    else:\n",
    "        norms = np.linalg.norm(A, axis=0)  # норма по стоблцам\n",
    "        norm_A = np.linalg.norm(A)\n",
    "    norm_probs = norms / norm_A  # нормы переводим в вероятности\n",
    "    norm_probs /= np.sum(norm_probs)  # нормы переводим в вероятности\n",
    "    norm_probs = norm_probs + 1e-9\n",
    "    norm_probs /= np.sum(norm_probs)\n",
    "    picked_cols = np.random.choice(A.shape[1], r, p=norm_probs, replace=False)\n",
    "    return picked_cols, norm_probs"
   ]
  },
  {
   "cell_type": "code",
   "execution_count": 13,
   "metadata": {},
   "outputs": [],
   "source": [
    "def get_columns(A, r):\n",
    "    picked_cols, norm_probs = sample_cols_probs(A, r)\n",
    "    C = A[:, picked_cols]\n",
    "    if spsp.issparse(A):\n",
    "        D1 = spsp.diags(1 / np.sqrt(r * norm_probs[picked_cols]))\n",
    "        C1 = C @ D1\n",
    "        U, S, Vt = spsp.linalg.svds(C1.T @ C1)\n",
    "    else:\n",
    "        D1 = np.diag(1 / np.sqrt(r * norm_probs[picked_cols]))\n",
    "        C1 = C @ D1\n",
    "        U, S, Vt = np.linalg.svd(C1.T @ C1)\n",
    "    k = S[S > 1e-6].size  # in order to avoid 1 / 0\n",
    "    compliment_C = (U[:, :k] * (1 / S[:k])) @ Vt[:k] # truncated SVD + compliment\n",
    "    return C, C1, D1, compliment_C"
   ]
  },
  {
   "cell_type": "code",
   "execution_count": 14,
   "metadata": {},
   "outputs": [],
   "source": [
    "def get_rows(A, r):\n",
    "    picked_rows, norm_probs = sample_cols_probs(A.T, r)\n",
    "    R = A[picked_rows]\n",
    "    m = A.shape[0]\n",
    "    if spsp.issparse(A):\n",
    "        D2 = spsp.diags(1 / np.sqrt(r * norm_probs[picked_rows]))\n",
    "        row = np.array(range(r))\n",
    "        col = picked_rows\n",
    "        W = spsp.csr_matrix(spsp.coo_matrix((np.ones(r), (row, col)), shape=(r, m)))      \n",
    "    else:\n",
    "        D2 = np.diag(1 / np.sqrt(r * norm_probs[picked_rows]))\n",
    "        W = np.zeros((r, m))\n",
    "        w_idxs = list(zip(range(r), picked_rows))\n",
    "        for idx in w_idxs:\n",
    "            W[idx] = 1\n",
    "    return R, D2, W"
   ]
  },
  {
   "cell_type": "code",
   "execution_count": 15,
   "metadata": {},
   "outputs": [],
   "source": [
    "def get_CUR_approx(A, r):\n",
    "    C, C1, D1, comp_C1 = get_columns(A, r)\n",
    "    R, D2, W = get_rows(A, r)\n",
    "    U = D1 @ comp_C1 @ C1.T @ W.T @ D2 @ D2\n",
    "    return C, U, R"
   ]
  },
  {
   "cell_type": "code",
   "execution_count": 279,
   "metadata": {},
   "outputs": [
    {
     "name": "stdout",
     "output_type": "stream",
     "text": [
      "(1000, 50)\n",
      "493.87631811498284\n"
     ]
    }
   ],
   "source": [
    "C, U, R = get_CUR_approx(A, k)\n",
    "print(C.shape)\n",
    "print(np.linalg.norm(A - C @ U @ R))"
   ]
  },
  {
   "cell_type": "markdown",
   "metadata": {},
   "source": [
    "### Sampling by norm"
   ]
  },
  {
   "cell_type": "code",
   "execution_count": 218,
   "metadata": {},
   "outputs": [],
   "source": [
    "def get_CUR_sample_l2_norm(A, k):\n",
    "    col_ind, _ = sample_cols_probs(A, k)\n",
    "    row_ind, _ = sample_cols_probs(A.T, k)\n",
    "    R = A[row_ind]\n",
    "    C = A[:, col_ind]\n",
    "    if scipy.sparse.issparse(A):\n",
    "        U = np.linalg.pinv(C.toarray()) @ A @ np.linalg.pinv(R.toarray())\n",
    "    else:\n",
    "        U = np.linalg.pinv(C) @ A @ np.linalg.pinv(R)\n",
    "    return C, U, R"
   ]
  },
  {
   "cell_type": "markdown",
   "metadata": {},
   "source": [
    "### Randomized pseudoskeleton"
   ]
  },
  {
   "cell_type": "code",
   "execution_count": 16,
   "metadata": {},
   "outputs": [],
   "source": [
    "def rand_pseudo_skeleton(A, k):\n",
    "    n, m = A.shape\n",
    "    rows = np.random.choice(n, k)\n",
    "    R = A[rows]\n",
    "    cols = np.random.choice(m, k)\n",
    "    C = A[:, cols]\n",
    "    if spsp.issparse(A):\n",
    "        A_sub = A[rows]\n",
    "        A_sub = A_sub[:, cols]\n",
    "        U, S, Vt = spsp.linalg.svds(A_sub)\n",
    "    else:\n",
    "        A_sub = A[np.ix_(rows, cols)]\n",
    "        U, S, Vt = np.linalg.svd(A_sub)\n",
    "    r = k // 2\n",
    "    U = np.linalg.pinv((U[:, :r] * S[:r]) @ Vt[:r])\n",
    "    return C, U, R"
   ]
  },
  {
   "cell_type": "code",
   "execution_count": 268,
   "metadata": {},
   "outputs": [
    {
     "name": "stdout",
     "output_type": "stream",
     "text": [
      "(1000, 100)\n",
      "4.5390103640026744e-12\n"
     ]
    }
   ],
   "source": [
    "C, U, R = rand_pseudo_skeleton(A, 2 * k)\n",
    "print(C.shape)\n",
    "print(np.linalg.norm(A - C @ U @ R))"
   ]
  },
  {
   "cell_type": "markdown",
   "metadata": {},
   "source": [
    "### Statistical leverage"
   ]
  },
  {
   "cell_type": "code",
   "execution_count": 144,
   "metadata": {},
   "outputs": [],
   "source": [
    "def ColumnSelect(A, k, eps):\n",
    "    m, n = np.shape(A)\n",
    "    if not scipy.sparse.issparse(A):\n",
    "        u, s, vh = np.linalg.svd(A)\n",
    "        v = vh[:k,:]\n",
    "    else:\n",
    "        u, s, v = scipy.sparse.linalg.svds(A, k=k)\n",
    "     \n",
    "    v_squared = np.square(v)\n",
    "    pi = np.sum(v_squared, axis=0)/k\n",
    "\n",
    "    cols = np.random.choice(n, size=k, replace=False, p=pi)\n",
    "    C = A[:, cols]\n",
    "            \n",
    "    return C, cols\n",
    "\n",
    "def CUR_leverage(A, k, eps):\n",
    "    C, col_ind = ColumnSelect(A, k, eps)\n",
    "    R, row_ind = ColumnSelect(A.T, k, eps)\n",
    "    R = R.T\n",
    "    \n",
    "    if scipy.sparse.issparse(A):\n",
    "        U = np.linalg.pinv(C.toarray()) @ A @ np.linalg.pinv(R.toarray())\n",
    "    else:\n",
    "        U = np.linalg.pinv(C) @ A @ np.linalg.pinv(R)\n",
    "    #U = scipy.sparse.csr_matrix(U)\n",
    "    \n",
    "    return C, U, R"
   ]
  },
  {
   "cell_type": "code",
   "execution_count": 145,
   "metadata": {},
   "outputs": [
    {
     "name": "stdout",
     "output_type": "stream",
     "text": [
      "(1000, 20)\n",
      "6.1813735687388135e-12\n"
     ]
    }
   ],
   "source": [
    "eps = 1\n",
    "C, U, R = CUR_leverage(A, k, eps)\n",
    "print(C.shape)\n",
    "print(np.linalg.norm(A - C @ U @ R))"
   ]
  },
  {
   "cell_type": "markdown",
   "metadata": {},
   "source": [
    "### Quasi Gram-Schmidt"
   ]
  },
  {
   "cell_type": "code",
   "execution_count": 18,
   "metadata": {},
   "outputs": [],
   "source": [
    "def quasi_Gram_Schmidt(A, k):\n",
    "    n = np.shape(A)[0]\n",
    "      \n",
    "    rho = np.linalg.norm(A[:,0])\n",
    "    R = np.array(rho).reshape((1,1))\n",
    "    \n",
    "    B = np.copy(A)\n",
    "    \n",
    "    for j in range(1,k):\n",
    "        \n",
    "        R_tilde = np.concatenate((R, np.linalg.inv(R).T @ B[:,:j].T @ B[:,j:]), axis=1)\n",
    "        norm = []\n",
    "        for i in range(j,n):\n",
    "            res = np.linalg.norm(B[:,i],2)**2 - np.linalg.norm(R_tilde[:j,i])**2\n",
    "            norm.append((res,i))\n",
    "        norm = sorted(norm, reverse=True, key = lambda x: x[0])\n",
    "        g = norm[0][1]\n",
    "        B[:, [j,g]] = B[:, [g,j]]\n",
    "        \n",
    "        d = B[:,j].T @ B[:,:j]\n",
    "        r = (d @ np.linalg.pinv(R)).T\n",
    "        p = np.linalg.pinv(R) @ r \n",
    "        q = B[:,j] - B[:,:j] @ p\n",
    "        d = q.T @ B[:,:j]\n",
    "        s = (d @ np.linalg.pinv(R)).T\n",
    "        r += s\n",
    "        p = np.linalg.pinv(R) @ s\n",
    "        q -= B[:,:j] @ s\n",
    "        rho = np.linalg.norm(q)\n",
    "        \n",
    "        zero = np.zeros((1,j))\n",
    "        \n",
    "        R = np.append(R, zero, axis=0)\n",
    "        l = np.append(r, rho).reshape((j+1,1))\n",
    "        R = np.append(R, l, axis=1)\n",
    "        \n",
    "    return B, R"
   ]
  },
  {
   "cell_type": "code",
   "execution_count": 19,
   "metadata": {},
   "outputs": [],
   "source": [
    "def quasi_Gram_Schmidt_sp(A, k):\n",
    "    n = np.shape(A)[0]\n",
    "    #print(type(A))\n",
    "    #print(scipy.sparse.linalg.norm(A))\n",
    "    rho = norm(A[:,0])\n",
    "    R = sparse.csc_matrix(rho).reshape((1,1))\n",
    "    #Q = A[:,0] / rho\n",
    "    #Q = Q.reshape((n,1))\n",
    "    \n",
    "    B = A.copy().tocsc()\n",
    "    \n",
    "    for j in range(1,k):\n",
    "        \n",
    "        R_tilde = sparse.hstack([R, inv(R).T @ B[:,:j].T @ B[:,j:]]).tocsc()\n",
    "        norm_col = []\n",
    "        for i in range(j,n):\n",
    "            res = norm(B[:,i])**2 - norm(R_tilde[:j,i])**2\n",
    "            norm_col.append((res,i))\n",
    "        norm_col = sorted(norm_col, reverse=True, key = lambda x: x[0])\n",
    "        g = norm_col[0][1]\n",
    "        B = B.tolil()\n",
    "        B[:, [j,g]] = B[:, [g,j]]\n",
    "        B = B.tocsr()\n",
    "        \n",
    "        d = B[:,j].T @ B[:,:j]\n",
    "        r = (d @ inv(R).reshape((j,j))).T\n",
    "        p = inv(R) @ r\n",
    "        p = p.reshape((j,1))\n",
    "        q = B[:,j] - B[:,:j] @ p\n",
    "        d = q.T @ B[:,:j]\n",
    "        s = (d @ inv(R)).T\n",
    "        r += s\n",
    "        p = inv(R) @ s\n",
    "        q -= B[:,:j] @ s\n",
    "\n",
    "        q = scipy.sparse.csc_matrix(q)\n",
    "        rho = norm(q)\n",
    "        \n",
    "        zero = np.zeros((1,j))\n",
    "        zero = sparse.csc_matrix(zero)\n",
    "        \n",
    "        R = sparse.vstack([R, zero])\n",
    "        l = sparse.vstack([r, rho]).reshape((j+1,1))\n",
    "        R = sparse.hstack([R, l])\n",
    "        R = R.tocsc()\n",
    "        \n",
    "    return B, R"
   ]
  },
  {
   "cell_type": "code",
   "execution_count": 20,
   "metadata": {},
   "outputs": [],
   "source": [
    "def SCR(A, k):\n",
    "    if not sparse.issparse(A):\n",
    "        B, R = quasi_Gram_Schmidt(A, k)\n",
    "        X = B[:,:k]\n",
    "        B_, S = quasi_Gram_Schmidt(A.T, k)\n",
    "        Y = B_[:,:k]\n",
    "\n",
    "        T = X.T @ B @ Y\n",
    "        T = np.linalg.inv(R) @ np.linalg.inv(R).T @ T @ np.linalg.inv(S) @ np.linalg.inv(S).T\n",
    "    \n",
    "    else:\n",
    "        B, R = quasi_Gram_Schmidt_sp(A, k)\n",
    "        X = B[:,:k]\n",
    "        B_, S = quasi_Gram_Schmidt_sp(A.T, k)\n",
    "        Y = B_[:,:k]\n",
    "        \n",
    "        T = X.T @ B @ Y\n",
    "        T = inv(R) @ inv(R).T @ T @ inv(S) @ inv(S).T\n",
    "    \n",
    "    return B, X, T, Y "
   ]
  },
  {
   "cell_type": "code",
   "execution_count": 286,
   "metadata": {},
   "outputs": [
    {
     "data": {
      "text/plain": [
       "51.63062152370802"
      ]
     },
     "execution_count": 286,
     "metadata": {},
     "output_type": "execute_result"
    }
   ],
   "source": [
    "B, X, T, Y = SCR(A, k)\n",
    "np.linalg.norm(B - X @ T @ Y.T)"
   ]
  },
  {
   "cell_type": "markdown",
   "metadata": {},
   "source": [
    "### Maxvol"
   ]
  },
  {
   "cell_type": "code",
   "execution_count": 242,
   "metadata": {},
   "outputs": [],
   "source": [
    "def idxs_from_flatten(flatten_idx, shape):\n",
    "    _, n = shape\n",
    "    i = flatten_idx // n\n",
    "    j = flatten_idx % n\n",
    "    return i, j\n",
    "\n",
    "def swap_rows(A, i, j):\n",
    "    temp_row = copy.deepcopy(A[i])\n",
    "    A[i] = copy.deepcopy(A[j])\n",
    "    A[j] = temp_row\n",
    "    return A\n",
    "\n",
    "def maxvol_ridge(data, r):\n",
    "    # matrix should be nxr\n",
    "    A = deepcopy(data)\n",
    "    if spsp.issparse(data):\n",
    "        A = spsp.lil.lil_matrix(A)\n",
    "    if A.shape[1] > r:\n",
    "        A, cols = ridge_sampling_randomized(A, r)\n",
    "    _, rows = ridge_sampling_randomized(A.T, r) # sample rows\n",
    "    rest_rows = np.array(list(set(range(0, A.shape[0])) - set(rows)))\n",
    "    swapped_rows = []\n",
    "    max_elem_in_B = 2\n",
    "    delta = 1e-3\n",
    "    iters = 0\n",
    "    while max_elem_in_B > 1 + delta and iters < r:\n",
    "        A_sub = A[rows]\n",
    "        if spsp.issparse(data):\n",
    "            A = spsp.lil.lil_matrix(spsp.vstack([A_sub, A[rest_rows]]))\n",
    "            B = A @ sp.linalg.pinv(A_sub.toarray())\n",
    "        else:\n",
    "            A = np.vstack([A_sub, A[rest_rows]])\n",
    "            B = A @ np.linalg.pinv(A_sub)\n",
    "        arg_max_b = r * B.shape[1] + np.argmax(B[r:])\n",
    "        i, j = idxs_from_flatten(arg_max_b, B.shape)\n",
    "        max_elem_in_B = B[i, j]\n",
    "        if max_elem_in_B > 1:\n",
    "            B = swap_rows(B, i, j)\n",
    "            A = swap_rows(A, i, j) # update idxs of rows which need to return\n",
    "            rows[j] = i\n",
    "            rest_rows[i - r] = j\n",
    "        iters += 1      \n",
    "    return rows\n",
    "\n",
    "def maxvol_statistical(data, r):\n",
    "    # matrix should be nxr\n",
    "    A = deepcopy(data)\n",
    "    if spsp.issparse(data):\n",
    "        A = spsp.lil.lil_matrix(A)\n",
    "        \n",
    "    _, rows = ColumnSelect(A.T, r, 1) # sample rows\n",
    "    if A.shape[1] > r:\n",
    "        A, cols = ColumnSelect(A, r, 1)\n",
    "    \n",
    "    rest_rows = np.array(list(set(range(0, A.shape[0])) - set(rows)))\n",
    "    swapped_rows = []\n",
    "    max_elem_in_B = 2\n",
    "    delta = 1e-3\n",
    "    iters = 0\n",
    "    while max_elem_in_B > 1 + delta and iters < r:\n",
    "        A_sub = A[rows]\n",
    "        if spsp.issparse(data):\n",
    "            A = spsp.lil.lil_matrix(spsp.vstack([A_sub, A[rest_rows]]))\n",
    "            B = A @ sp.linalg.pinv(A_sub.toarray())\n",
    "        else:\n",
    "            A = np.vstack([A_sub, A[rest_rows]])\n",
    "            B = A @ np.linalg.pinv(A_sub)\n",
    "        arg_max_b = r * B.shape[1] + np.argmax(B[r:])\n",
    "        i, j = idxs_from_flatten(arg_max_b, B.shape)\n",
    "        max_elem_in_B = B[i, j]\n",
    "        if max_elem_in_B > 1:\n",
    "            B = swap_rows(B, i, j)\n",
    "            A = swap_rows(A, i, j) # update idxs of rows which need to return\n",
    "            rows[j] = i\n",
    "            rest_rows[i - r] = j\n",
    "        iters += 1      \n",
    "    return rows\n",
    "\n",
    "def maxvol_naive(data, r):\n",
    "    # matrix should be nxr\n",
    "    A = deepcopy(data)\n",
    "    if spsp.issparse(data):\n",
    "        A = spsp.lil.lil_matrix(A)\n",
    "    if A.shape[1] > r:\n",
    "        A, cols = rand_sample(A, r)\n",
    "    _, rows = rand_sample(A.T, r) # sample rows\n",
    "    rest_rows = np.array(list(set(range(0, A.shape[0])) - set(rows)))\n",
    "    swapped_rows = []\n",
    "    max_elem_in_B = 2\n",
    "    delta = 1e-3\n",
    "    iters = 0\n",
    "    while max_elem_in_B > 1 + delta and iters < r:\n",
    "        A_sub = A[rows]\n",
    "        if spsp.issparse(data):\n",
    "            A = spsp.lil.lil_matrix(spsp.vstack([A_sub, A[rest_rows]]))\n",
    "            B = A @ sp.linalg.pinv(A_sub.toarray())\n",
    "        else:\n",
    "            A = np.vstack([A_sub, A[rest_rows]])\n",
    "            B = A @ np.linalg.pinv(A_sub)\n",
    "        arg_max_b = r * B.shape[1] + np.argmax(B[r:])\n",
    "        i, j = idxs_from_flatten(arg_max_b, B.shape)\n",
    "        max_elem_in_B = B[i, j]\n",
    "        if max_elem_in_B > 1:\n",
    "            B = swap_rows(B, i, j)\n",
    "            A = swap_rows(A, i, j) # update idxs of rows which need to return\n",
    "            rows[j] = i\n",
    "            rest_rows[i - r] = j\n",
    "        iters += 1      \n",
    "    return rows\n",
    "\n",
    "def maxvol_cols_probs(data, r):\n",
    "    # matrix should be nxr\n",
    "    A = deepcopy(data)\n",
    "    if spsp.issparse(data):\n",
    "        A = spsp.lil.lil_matrix(A)\n",
    "    if A.shape[1] > r:\n",
    "        cols, _ = sample_cols_probs(A, r) # sample columns\n",
    "        A = A[:, cols]\n",
    "    rows, _ = sample_cols_probs(A.T, r) # # sample rows\n",
    "    rest_rows = np.array(list(set(range(0, A.shape[0])) - set(rows)))\n",
    "    swapped_rows = []\n",
    "    max_elem_in_B = 2\n",
    "    delta = 1e-3\n",
    "    iters = 0\n",
    "    while max_elem_in_B > 1 + delta and iters < r:\n",
    "        A_sub = A[rows]\n",
    "        if spsp.issparse(data):\n",
    "            A = spsp.lil.lil_matrix(spsp.vstack([A_sub, A[rest_rows]]))\n",
    "            B = A @ sp.linalg.pinv(A_sub.toarray())\n",
    "        else:\n",
    "            A = np.vstack([A_sub, A[rest_rows]])\n",
    "            B = A @ np.linalg.pinv(A_sub)\n",
    "        arg_max_b = r * B.shape[1] + np.argmax(B[r:])\n",
    "        i, j = idxs_from_flatten(arg_max_b, B.shape)\n",
    "        max_elem_in_B = B[i, j]\n",
    "        if max_elem_in_B > 1:\n",
    "            B = swap_rows(B, i, j)\n",
    "            A = swap_rows(A, i, j) # update idxs of rows which need to return\n",
    "            rows[j] = i\n",
    "            rest_rows[i - r] = j\n",
    "        iters += 1      \n",
    "    return rows"
   ]
  },
  {
   "cell_type": "code",
   "execution_count": 292,
   "metadata": {},
   "outputs": [],
   "source": [
    "def get_CUR_maxvol(A, k, func):\n",
    "    rows = func(A, k)\n",
    "    R = A[rows]\n",
    "    cols = func(R.T, k)\n",
    "    C = A[:, cols]\n",
    "    if scipy.sparse.issparse(A):\n",
    "        U = np.linalg.pinv(C.toarray()) @ A @ np.linalg.pinv(R.toarray())\n",
    "    else:\n",
    "        U = np.linalg.pinv(C) @ A @ np.linalg.pinv(R)\n",
    "    #U = scipy.sparse.csr_matrix(U)\n",
    "    print(np.linalg.norm(A - C @ U @ R))\n",
    "    \n",
    "    return C, U, R"
   ]
  },
  {
   "cell_type": "code",
   "execution_count": 210,
   "metadata": {},
   "outputs": [],
   "source": [
    "C, U, R = get_CUR_maxvol(A, k, maxvol_cols_probs)"
   ]
  },
  {
   "cell_type": "code",
   "execution_count": 178,
   "metadata": {},
   "outputs": [
    {
     "name": "stdout",
     "output_type": "stream",
     "text": [
      "(1000, 200) (200, 200) (200, 1000)\n"
     ]
    }
   ],
   "source": [
    "print(C.shape, U.shape, R.shape)"
   ]
  },
  {
   "cell_type": "code",
   "execution_count": 177,
   "metadata": {},
   "outputs": [
    {
     "name": "stdout",
     "output_type": "stream",
     "text": [
      "11.765371447347025\n"
     ]
    }
   ],
   "source": [
    "print(np.linalg.norm(A - C @ U @ R))"
   ]
  },
  {
   "cell_type": "markdown",
   "metadata": {},
   "source": [
    "## Testing accuracy"
   ]
  },
  {
   "cell_type": "code",
   "execution_count": 308,
   "metadata": {},
   "outputs": [],
   "source": [
    "n = 3000\n",
    "rank = 30\n",
    "A = np.random.random((n, n))\n",
    "U, s, Vt = np.linalg.svd(A)\n",
    "A = (U[:, :rank] * s[:rank]) @ Vt[:rank, :]\n",
    "k = 30"
   ]
  },
  {
   "cell_type": "code",
   "execution_count": 310,
   "metadata": {
    "scrolled": true
   },
   "outputs": [
    {
     "name": "stdout",
     "output_type": "stream",
     "text": [
      "SVD\n",
      "1.537589807984485e-12\n",
      "\n",
      "Ridge\n",
      "6.235076881575452e-11\n",
      "\n",
      "Randomized ridge\n",
      "1.0543912622732116e-10\n",
      "\n",
      "Stat. leverage\n",
      "7.620684104243382e-11\n",
      "\n",
      "Quasi GS\n",
      "38.01232825955902\n",
      "\n",
      "Pseudo skeleton\n",
      "147.29324804838987\n",
      "\n",
      "CUR approximation\n",
      "1439.6457435674627\n",
      "\n",
      "CUR norms\n",
      "7.547069781037258e-10\n",
      "\n",
      "Naive CUR\n",
      "6.654916565719917e-11\n",
      "\n",
      "<function maxvol_naive at 0x7f920eb52510>\n",
      "6.883479508837098e-10\n",
      "6.883479508837098e-10\n",
      "\n",
      "<function maxvol_ridge at 0x7f9212579f28>\n",
      "31.165794243856727\n",
      "31.165794243856727\n",
      "\n",
      "<function maxvol_statistical at 0x7f9212579620>\n",
      "31.680173905473552\n",
      "31.680173905473552\n",
      "\n",
      "<function maxvol_cols_probs at 0x7f92116da378>\n",
      "1.302611040824097e-10\n",
      "1.302611040824097e-10\n",
      "\n"
     ]
    }
   ],
   "source": [
    "#dense random matrix\n",
    "print('SVD')\n",
    "U, s, Vt = get_trunc_SVD(A, k)\n",
    "print(np.linalg.norm(A - (U * s) @ Vt))\n",
    "print()\n",
    "\n",
    "print('Ridge')\n",
    "C, U, R = get_CUR_ridge(A, k)\n",
    "print(np.linalg.norm(A - C @ U @ R))\n",
    "print()\n",
    "\n",
    "print('Randomized ridge')\n",
    "C, U, R = get_CUR_ridge_randomized(A, k)\n",
    "print(np.linalg.norm(A - C @ U @ R))\n",
    "print()\n",
    "\n",
    "print('Stat. leverage')\n",
    "eps = 1\n",
    "C, U, R = CUR_leverage(A, k, eps)\n",
    "print(np.linalg.norm(A - C @ U @ R))\n",
    "print()\n",
    "\n",
    "print('Quasi GS')\n",
    "B, X, T, Y = SCR(A, k)\n",
    "print(np.linalg.norm(B - X @ T @ Y.T))\n",
    "print()\n",
    "\n",
    "print('Pseudo skeleton')\n",
    "C, U, R = rand_pseudo_skeleton(A, k)\n",
    "print(np.linalg.norm(A - C @ U @ R))\n",
    "print()\n",
    "\n",
    "print('CUR approximation')\n",
    "C, U, R = get_CUR_approx(A, k)\n",
    "print(np.linalg.norm(A - C @ U @ R))\n",
    "print()\n",
    "\n",
    "print('CUR norms')\n",
    "C, U, R = get_CUR_sample_l2_norm(A, k)\n",
    "print(np.linalg.norm(A - C @ U @ R))\n",
    "print()\n",
    "\n",
    "print('Naive CUR')\n",
    "C, U, R = get_CUR_naive(A, k)\n",
    "print(np.linalg.norm(A - C @ U @ R))\n",
    "print()\n",
    "\n",
    "for func in [maxvol_naive, maxvol_ridge, maxvol_statistical, maxvol_cols_probs]:\n",
    "    print(func)\n",
    "    C, U, R = get_CUR_maxvol(A, k, func)\n",
    "    print(np.linalg.norm(A - C @ U @ R))\n",
    "    print()"
   ]
  },
  {
   "cell_type": "code",
   "execution_count": 3,
   "metadata": {},
   "outputs": [],
   "source": [
    "movies = pd.read_csv('./ml-latest-small/movies.csv', index_col='movieId', header=0, encoding='unicode-escape')\n",
    "ratings = pd.read_csv('./ml-latest-small/ratings.csv', header=0)"
   ]
  },
  {
   "cell_type": "code",
   "execution_count": 4,
   "metadata": {},
   "outputs": [
    {
     "data": {
      "text/html": [
       "<div>\n",
       "<style scoped>\n",
       "    .dataframe tbody tr th:only-of-type {\n",
       "        vertical-align: middle;\n",
       "    }\n",
       "\n",
       "    .dataframe tbody tr th {\n",
       "        vertical-align: top;\n",
       "    }\n",
       "\n",
       "    .dataframe thead th {\n",
       "        text-align: right;\n",
       "    }\n",
       "</style>\n",
       "<table border=\"1\" class=\"dataframe\">\n",
       "  <thead>\n",
       "    <tr style=\"text-align: right;\">\n",
       "      <th></th>\n",
       "      <th>title</th>\n",
       "      <th>genres</th>\n",
       "    </tr>\n",
       "    <tr>\n",
       "      <th>movieId</th>\n",
       "      <th></th>\n",
       "      <th></th>\n",
       "    </tr>\n",
       "  </thead>\n",
       "  <tbody>\n",
       "    <tr>\n",
       "      <th>2116</th>\n",
       "      <td>Lord of the Rings, The (1978)</td>\n",
       "      <td>Adventure|Animation|Children|Fantasy</td>\n",
       "    </tr>\n",
       "    <tr>\n",
       "      <th>4993</th>\n",
       "      <td>Lord of the Rings: The Fellowship of the Ring,...</td>\n",
       "      <td>Adventure|Fantasy</td>\n",
       "    </tr>\n",
       "    <tr>\n",
       "      <th>5952</th>\n",
       "      <td>Lord of the Rings: The Two Towers, The (2002)</td>\n",
       "      <td>Adventure|Fantasy</td>\n",
       "    </tr>\n",
       "    <tr>\n",
       "      <th>7153</th>\n",
       "      <td>Lord of the Rings: The Return of the King, The...</td>\n",
       "      <td>Action|Adventure|Drama|Fantasy</td>\n",
       "    </tr>\n",
       "  </tbody>\n",
       "</table>\n",
       "</div>"
      ],
      "text/plain": [
       "                                                     title  \\\n",
       "movieId                                                      \n",
       "2116                         Lord of the Rings, The (1978)   \n",
       "4993     Lord of the Rings: The Fellowship of the Ring,...   \n",
       "5952         Lord of the Rings: The Two Towers, The (2002)   \n",
       "7153     Lord of the Rings: The Return of the King, The...   \n",
       "\n",
       "                                       genres  \n",
       "movieId                                        \n",
       "2116     Adventure|Animation|Children|Fantasy  \n",
       "4993                        Adventure|Fantasy  \n",
       "5952                        Adventure|Fantasy  \n",
       "7153           Action|Adventure|Drama|Fantasy  "
      ]
     },
     "execution_count": 4,
     "metadata": {},
     "output_type": "execute_result"
    }
   ],
   "source": [
    "best_movies = \"lord of the rings\"\n",
    "target_movies = movies.loc[movies.title.str.contains(best_movies, flags=2)]\n",
    "target_movies"
   ]
  },
  {
   "cell_type": "code",
   "execution_count": 5,
   "metadata": {},
   "outputs": [],
   "source": [
    "favorite_movies_ids = target_movies.index\n",
    "data_matrix = scipy.sparse.csr_matrix((ratings.rating.values.astype('f8'), \n",
    "                               (ratings.userId.values, ratings.movieId.values)))"
   ]
  },
  {
   "cell_type": "code",
   "execution_count": 6,
   "metadata": {},
   "outputs": [],
   "source": [
    "A = data_matrix\n",
    "k = 30"
   ]
  },
  {
   "cell_type": "code",
   "execution_count": 238,
   "metadata": {},
   "outputs": [
    {
     "name": "stdout",
     "output_type": "stream",
     "text": [
      "Pseudo skeleton\n",
      "1160.144172075178\n",
      "\n",
      "CUR norms\n",
      "1038.942742519901\n",
      "\n",
      "Naive CUR\n",
      "1155.5408580145938\n",
      "\n",
      "<function maxvol_naive at 0x7f92119b4268>\n",
      "1157.5786256118472\n",
      "\n",
      "<function maxvol_ridge at 0x7f9212579620>\n"
     ]
    },
    {
     "ename": "KeyboardInterrupt",
     "evalue": "",
     "output_type": "error",
     "traceback": [
      "\u001b[0;31m---------------------------------------------------------------------------\u001b[0m",
      "\u001b[0;31mAttributeError\u001b[0m                            Traceback (most recent call last)",
      "\u001b[0;32m~/anaconda3/lib/python3.7/site-packages/numpy/core/fromnumeric.py\u001b[0m in \u001b[0;36mndim\u001b[0;34m(a)\u001b[0m\n\u001b[1;32m   2879\u001b[0m     \u001b[0;32mtry\u001b[0m\u001b[0;34m:\u001b[0m\u001b[0;34m\u001b[0m\u001b[0;34m\u001b[0m\u001b[0m\n\u001b[0;32m-> 2880\u001b[0;31m         \u001b[0;32mreturn\u001b[0m \u001b[0ma\u001b[0m\u001b[0;34m.\u001b[0m\u001b[0mndim\u001b[0m\u001b[0;34m\u001b[0m\u001b[0;34m\u001b[0m\u001b[0m\n\u001b[0m\u001b[1;32m   2881\u001b[0m     \u001b[0;32mexcept\u001b[0m \u001b[0mAttributeError\u001b[0m\u001b[0;34m:\u001b[0m\u001b[0;34m\u001b[0m\u001b[0;34m\u001b[0m\u001b[0m\n",
      "\u001b[0;31mAttributeError\u001b[0m: 'int' object has no attribute 'ndim'",
      "\nDuring handling of the above exception, another exception occurred:\n",
      "\u001b[0;31mKeyboardInterrupt\u001b[0m                         Traceback (most recent call last)",
      "\u001b[0;32m<ipython-input-238-10603d46c779>\u001b[0m in \u001b[0;36m<module>\u001b[0;34m\u001b[0m\n\u001b[1;32m     39\u001b[0m \u001b[0;32mfor\u001b[0m \u001b[0mfunc\u001b[0m \u001b[0;32min\u001b[0m \u001b[0;34m[\u001b[0m\u001b[0mmaxvol_naive\u001b[0m\u001b[0;34m,\u001b[0m \u001b[0mmaxvol_ridge\u001b[0m\u001b[0;34m,\u001b[0m \u001b[0mmaxvol_statistical\u001b[0m\u001b[0;34m,\u001b[0m \u001b[0mmaxvol_cols_probs\u001b[0m\u001b[0;34m]\u001b[0m\u001b[0;34m:\u001b[0m\u001b[0;34m\u001b[0m\u001b[0;34m\u001b[0m\u001b[0m\n\u001b[1;32m     40\u001b[0m     \u001b[0mprint\u001b[0m\u001b[0;34m(\u001b[0m\u001b[0mfunc\u001b[0m\u001b[0;34m)\u001b[0m\u001b[0;34m\u001b[0m\u001b[0;34m\u001b[0m\u001b[0m\n\u001b[0;32m---> 41\u001b[0;31m     \u001b[0mC\u001b[0m\u001b[0;34m,\u001b[0m \u001b[0mU\u001b[0m\u001b[0;34m,\u001b[0m \u001b[0mR\u001b[0m \u001b[0;34m=\u001b[0m \u001b[0mget_CUR_maxvol\u001b[0m\u001b[0;34m(\u001b[0m\u001b[0mA\u001b[0m\u001b[0;34m,\u001b[0m \u001b[0mk\u001b[0m\u001b[0;34m,\u001b[0m \u001b[0mfunc\u001b[0m\u001b[0;34m)\u001b[0m\u001b[0;34m\u001b[0m\u001b[0;34m\u001b[0m\u001b[0m\n\u001b[0m\u001b[1;32m     42\u001b[0m     \u001b[0mprint\u001b[0m\u001b[0;34m(\u001b[0m\u001b[0mnp\u001b[0m\u001b[0;34m.\u001b[0m\u001b[0mlinalg\u001b[0m\u001b[0;34m.\u001b[0m\u001b[0mnorm\u001b[0m\u001b[0;34m(\u001b[0m\u001b[0mA\u001b[0m \u001b[0;34m-\u001b[0m \u001b[0mC\u001b[0m \u001b[0;34m@\u001b[0m \u001b[0mU\u001b[0m \u001b[0;34m@\u001b[0m \u001b[0mR\u001b[0m\u001b[0;34m)\u001b[0m\u001b[0;34m)\u001b[0m\u001b[0;34m\u001b[0m\u001b[0;34m\u001b[0m\u001b[0m\n\u001b[1;32m     43\u001b[0m     \u001b[0mprint\u001b[0m\u001b[0;34m(\u001b[0m\u001b[0;34m)\u001b[0m\u001b[0;34m\u001b[0m\u001b[0;34m\u001b[0m\u001b[0m\n",
      "\u001b[0;32m<ipython-input-209-c2019d91dc6f>\u001b[0m in \u001b[0;36mget_CUR_maxvol\u001b[0;34m(A, k, func)\u001b[0m\n\u001b[1;32m      1\u001b[0m \u001b[0;32mdef\u001b[0m \u001b[0mget_CUR_maxvol\u001b[0m\u001b[0;34m(\u001b[0m\u001b[0mA\u001b[0m\u001b[0;34m,\u001b[0m \u001b[0mk\u001b[0m\u001b[0;34m,\u001b[0m \u001b[0mfunc\u001b[0m\u001b[0;34m)\u001b[0m\u001b[0;34m:\u001b[0m\u001b[0;34m\u001b[0m\u001b[0;34m\u001b[0m\u001b[0m\n\u001b[0;32m----> 2\u001b[0;31m     \u001b[0mrows\u001b[0m \u001b[0;34m=\u001b[0m \u001b[0mfunc\u001b[0m\u001b[0;34m(\u001b[0m\u001b[0mA\u001b[0m\u001b[0;34m,\u001b[0m \u001b[0mk\u001b[0m\u001b[0;34m)\u001b[0m\u001b[0;34m\u001b[0m\u001b[0;34m\u001b[0m\u001b[0m\n\u001b[0m\u001b[1;32m      3\u001b[0m     \u001b[0mR\u001b[0m \u001b[0;34m=\u001b[0m \u001b[0mA\u001b[0m\u001b[0;34m[\u001b[0m\u001b[0mrows\u001b[0m\u001b[0;34m]\u001b[0m\u001b[0;34m\u001b[0m\u001b[0;34m\u001b[0m\u001b[0m\n\u001b[1;32m      4\u001b[0m     \u001b[0mcols\u001b[0m \u001b[0;34m=\u001b[0m \u001b[0mfunc\u001b[0m\u001b[0;34m(\u001b[0m\u001b[0mR\u001b[0m\u001b[0;34m.\u001b[0m\u001b[0mT\u001b[0m\u001b[0;34m,\u001b[0m \u001b[0mk\u001b[0m\u001b[0;34m)\u001b[0m\u001b[0;34m\u001b[0m\u001b[0;34m\u001b[0m\u001b[0m\n\u001b[1;32m      5\u001b[0m     \u001b[0mC\u001b[0m \u001b[0;34m=\u001b[0m \u001b[0mA\u001b[0m\u001b[0;34m[\u001b[0m\u001b[0;34m:\u001b[0m\u001b[0;34m,\u001b[0m \u001b[0mcols\u001b[0m\u001b[0;34m]\u001b[0m\u001b[0;34m\u001b[0m\u001b[0;34m\u001b[0m\u001b[0m\n",
      "\u001b[0;32m<ipython-input-208-608fc76d48bb>\u001b[0m in \u001b[0;36mmaxvol_ridge\u001b[0;34m(data, r)\u001b[0m\n\u001b[1;32m     17\u001b[0m         \u001b[0mA\u001b[0m \u001b[0;34m=\u001b[0m \u001b[0mspsp\u001b[0m\u001b[0;34m.\u001b[0m\u001b[0mlil\u001b[0m\u001b[0;34m.\u001b[0m\u001b[0mlil_matrix\u001b[0m\u001b[0;34m(\u001b[0m\u001b[0mA\u001b[0m\u001b[0;34m)\u001b[0m\u001b[0;34m\u001b[0m\u001b[0;34m\u001b[0m\u001b[0m\n\u001b[1;32m     18\u001b[0m     \u001b[0;32mif\u001b[0m \u001b[0mA\u001b[0m\u001b[0;34m.\u001b[0m\u001b[0mshape\u001b[0m\u001b[0;34m[\u001b[0m\u001b[0;36m1\u001b[0m\u001b[0;34m]\u001b[0m \u001b[0;34m>\u001b[0m \u001b[0mr\u001b[0m\u001b[0;34m:\u001b[0m\u001b[0;34m\u001b[0m\u001b[0;34m\u001b[0m\u001b[0m\n\u001b[0;32m---> 19\u001b[0;31m         \u001b[0mA\u001b[0m\u001b[0;34m,\u001b[0m \u001b[0mcols\u001b[0m \u001b[0;34m=\u001b[0m \u001b[0mridge_sampling_randomized\u001b[0m\u001b[0;34m(\u001b[0m\u001b[0mA\u001b[0m\u001b[0;34m,\u001b[0m \u001b[0mr\u001b[0m\u001b[0;34m)\u001b[0m\u001b[0;34m\u001b[0m\u001b[0;34m\u001b[0m\u001b[0m\n\u001b[0m\u001b[1;32m     20\u001b[0m     \u001b[0m_\u001b[0m\u001b[0;34m,\u001b[0m \u001b[0mrows\u001b[0m \u001b[0;34m=\u001b[0m \u001b[0mridge_sampling_randomized\u001b[0m\u001b[0;34m(\u001b[0m\u001b[0mA\u001b[0m\u001b[0;34m.\u001b[0m\u001b[0mT\u001b[0m\u001b[0;34m,\u001b[0m \u001b[0mr\u001b[0m\u001b[0;34m)\u001b[0m \u001b[0;31m# sample rows\u001b[0m\u001b[0;34m\u001b[0m\u001b[0;34m\u001b[0m\u001b[0m\n\u001b[1;32m     21\u001b[0m     \u001b[0mrest_rows\u001b[0m \u001b[0;34m=\u001b[0m \u001b[0mnp\u001b[0m\u001b[0;34m.\u001b[0m\u001b[0marray\u001b[0m\u001b[0;34m(\u001b[0m\u001b[0mlist\u001b[0m\u001b[0;34m(\u001b[0m\u001b[0mset\u001b[0m\u001b[0;34m(\u001b[0m\u001b[0mrange\u001b[0m\u001b[0;34m(\u001b[0m\u001b[0;36m0\u001b[0m\u001b[0;34m,\u001b[0m \u001b[0mA\u001b[0m\u001b[0;34m.\u001b[0m\u001b[0mshape\u001b[0m\u001b[0;34m[\u001b[0m\u001b[0;36m0\u001b[0m\u001b[0;34m]\u001b[0m\u001b[0;34m)\u001b[0m\u001b[0;34m)\u001b[0m \u001b[0;34m-\u001b[0m \u001b[0mset\u001b[0m\u001b[0;34m(\u001b[0m\u001b[0mrows\u001b[0m\u001b[0;34m)\u001b[0m\u001b[0;34m)\u001b[0m\u001b[0;34m)\u001b[0m\u001b[0;34m\u001b[0m\u001b[0;34m\u001b[0m\u001b[0m\n",
      "\u001b[0;32m<ipython-input-214-ffd829ffb237>\u001b[0m in \u001b[0;36mridge_sampling_randomized\u001b[0;34m(A, t)\u001b[0m\n\u001b[1;32m      4\u001b[0m     \u001b[0mCu\u001b[0m \u001b[0;34m=\u001b[0m \u001b[0mA\u001b[0m\u001b[0;34m[\u001b[0m\u001b[0;34m:\u001b[0m\u001b[0;34m,\u001b[0m \u001b[0mindexes\u001b[0m\u001b[0;34m]\u001b[0m\u001b[0;34m\u001b[0m\u001b[0;34m\u001b[0m\u001b[0m\n\u001b[1;32m      5\u001b[0m     \u001b[0;32mif\u001b[0m \u001b[0mCu\u001b[0m\u001b[0;34m.\u001b[0m\u001b[0mshape\u001b[0m\u001b[0;34m[\u001b[0m\u001b[0;36m1\u001b[0m\u001b[0;34m]\u001b[0m \u001b[0;34m//\u001b[0m \u001b[0;36m2\u001b[0m \u001b[0;34m>\u001b[0m \u001b[0;36m5\u001b[0m \u001b[0;34m*\u001b[0m \u001b[0mt\u001b[0m\u001b[0;34m:\u001b[0m\u001b[0;34m\u001b[0m\u001b[0;34m\u001b[0m\u001b[0m\n\u001b[0;32m----> 6\u001b[0;31m         \u001b[0mCu\u001b[0m\u001b[0;34m,\u001b[0m \u001b[0mindexes\u001b[0m \u001b[0;34m=\u001b[0m \u001b[0mridge_sampling_randomized\u001b[0m\u001b[0;34m(\u001b[0m\u001b[0mCu\u001b[0m\u001b[0;34m,\u001b[0m \u001b[0mint\u001b[0m\u001b[0;34m(\u001b[0m\u001b[0;36m5\u001b[0m \u001b[0;34m*\u001b[0m \u001b[0mt\u001b[0m\u001b[0;34m)\u001b[0m\u001b[0;34m)\u001b[0m\u001b[0;34m\u001b[0m\u001b[0;34m\u001b[0m\u001b[0m\n\u001b[0m\u001b[1;32m      7\u001b[0m \u001b[0;34m\u001b[0m\u001b[0m\n\u001b[1;32m      8\u001b[0m     \u001b[0mk\u001b[0m \u001b[0;34m=\u001b[0m \u001b[0mint\u001b[0m\u001b[0;34m(\u001b[0m\u001b[0mnp\u001b[0m\u001b[0;34m.\u001b[0m\u001b[0mexp\u001b[0m\u001b[0;34m(\u001b[0m\u001b[0mlambertw\u001b[0m\u001b[0;34m(\u001b[0m\u001b[0mt\u001b[0m\u001b[0;34m)\u001b[0m\u001b[0;34m)\u001b[0m\u001b[0;34m.\u001b[0m\u001b[0mreal\u001b[0m\u001b[0;34m)\u001b[0m\u001b[0;34m\u001b[0m\u001b[0;34m\u001b[0m\u001b[0m\n",
      "\u001b[0;32m<ipython-input-214-ffd829ffb237>\u001b[0m in \u001b[0;36mridge_sampling_randomized\u001b[0;34m(A, t)\u001b[0m\n\u001b[1;32m      4\u001b[0m     \u001b[0mCu\u001b[0m \u001b[0;34m=\u001b[0m \u001b[0mA\u001b[0m\u001b[0;34m[\u001b[0m\u001b[0;34m:\u001b[0m\u001b[0;34m,\u001b[0m \u001b[0mindexes\u001b[0m\u001b[0;34m]\u001b[0m\u001b[0;34m\u001b[0m\u001b[0;34m\u001b[0m\u001b[0m\n\u001b[1;32m      5\u001b[0m     \u001b[0;32mif\u001b[0m \u001b[0mCu\u001b[0m\u001b[0;34m.\u001b[0m\u001b[0mshape\u001b[0m\u001b[0;34m[\u001b[0m\u001b[0;36m1\u001b[0m\u001b[0;34m]\u001b[0m \u001b[0;34m//\u001b[0m \u001b[0;36m2\u001b[0m \u001b[0;34m>\u001b[0m \u001b[0;36m5\u001b[0m \u001b[0;34m*\u001b[0m \u001b[0mt\u001b[0m\u001b[0;34m:\u001b[0m\u001b[0;34m\u001b[0m\u001b[0;34m\u001b[0m\u001b[0m\n\u001b[0;32m----> 6\u001b[0;31m         \u001b[0mCu\u001b[0m\u001b[0;34m,\u001b[0m \u001b[0mindexes\u001b[0m \u001b[0;34m=\u001b[0m \u001b[0mridge_sampling_randomized\u001b[0m\u001b[0;34m(\u001b[0m\u001b[0mCu\u001b[0m\u001b[0;34m,\u001b[0m \u001b[0mint\u001b[0m\u001b[0;34m(\u001b[0m\u001b[0;36m5\u001b[0m \u001b[0;34m*\u001b[0m \u001b[0mt\u001b[0m\u001b[0;34m)\u001b[0m\u001b[0;34m)\u001b[0m\u001b[0;34m\u001b[0m\u001b[0;34m\u001b[0m\u001b[0m\n\u001b[0m\u001b[1;32m      7\u001b[0m \u001b[0;34m\u001b[0m\u001b[0m\n\u001b[1;32m      8\u001b[0m     \u001b[0mk\u001b[0m \u001b[0;34m=\u001b[0m \u001b[0mint\u001b[0m\u001b[0;34m(\u001b[0m\u001b[0mnp\u001b[0m\u001b[0;34m.\u001b[0m\u001b[0mexp\u001b[0m\u001b[0;34m(\u001b[0m\u001b[0mlambertw\u001b[0m\u001b[0;34m(\u001b[0m\u001b[0mt\u001b[0m\u001b[0;34m)\u001b[0m\u001b[0;34m)\u001b[0m\u001b[0;34m.\u001b[0m\u001b[0mreal\u001b[0m\u001b[0;34m)\u001b[0m\u001b[0;34m\u001b[0m\u001b[0;34m\u001b[0m\u001b[0m\n",
      "\u001b[0;32m<ipython-input-214-ffd829ffb237>\u001b[0m in \u001b[0;36mridge_sampling_randomized\u001b[0;34m(A, t)\u001b[0m\n\u001b[1;32m      4\u001b[0m     \u001b[0mCu\u001b[0m \u001b[0;34m=\u001b[0m \u001b[0mA\u001b[0m\u001b[0;34m[\u001b[0m\u001b[0;34m:\u001b[0m\u001b[0;34m,\u001b[0m \u001b[0mindexes\u001b[0m\u001b[0;34m]\u001b[0m\u001b[0;34m\u001b[0m\u001b[0;34m\u001b[0m\u001b[0m\n\u001b[1;32m      5\u001b[0m     \u001b[0;32mif\u001b[0m \u001b[0mCu\u001b[0m\u001b[0;34m.\u001b[0m\u001b[0mshape\u001b[0m\u001b[0;34m[\u001b[0m\u001b[0;36m1\u001b[0m\u001b[0;34m]\u001b[0m \u001b[0;34m//\u001b[0m \u001b[0;36m2\u001b[0m \u001b[0;34m>\u001b[0m \u001b[0;36m5\u001b[0m \u001b[0;34m*\u001b[0m \u001b[0mt\u001b[0m\u001b[0;34m:\u001b[0m\u001b[0;34m\u001b[0m\u001b[0;34m\u001b[0m\u001b[0m\n\u001b[0;32m----> 6\u001b[0;31m         \u001b[0mCu\u001b[0m\u001b[0;34m,\u001b[0m \u001b[0mindexes\u001b[0m \u001b[0;34m=\u001b[0m \u001b[0mridge_sampling_randomized\u001b[0m\u001b[0;34m(\u001b[0m\u001b[0mCu\u001b[0m\u001b[0;34m,\u001b[0m \u001b[0mint\u001b[0m\u001b[0;34m(\u001b[0m\u001b[0;36m5\u001b[0m \u001b[0;34m*\u001b[0m \u001b[0mt\u001b[0m\u001b[0;34m)\u001b[0m\u001b[0;34m)\u001b[0m\u001b[0;34m\u001b[0m\u001b[0;34m\u001b[0m\u001b[0m\n\u001b[0m\u001b[1;32m      7\u001b[0m \u001b[0;34m\u001b[0m\u001b[0m\n\u001b[1;32m      8\u001b[0m     \u001b[0mk\u001b[0m \u001b[0;34m=\u001b[0m \u001b[0mint\u001b[0m\u001b[0;34m(\u001b[0m\u001b[0mnp\u001b[0m\u001b[0;34m.\u001b[0m\u001b[0mexp\u001b[0m\u001b[0;34m(\u001b[0m\u001b[0mlambertw\u001b[0m\u001b[0;34m(\u001b[0m\u001b[0mt\u001b[0m\u001b[0;34m)\u001b[0m\u001b[0;34m)\u001b[0m\u001b[0;34m.\u001b[0m\u001b[0mreal\u001b[0m\u001b[0;34m)\u001b[0m\u001b[0;34m\u001b[0m\u001b[0;34m\u001b[0m\u001b[0m\n",
      "\u001b[0;32m<ipython-input-214-ffd829ffb237>\u001b[0m in \u001b[0;36mridge_sampling_randomized\u001b[0;34m(A, t)\u001b[0m\n\u001b[1;32m     27\u001b[0m             \u001b[0mridge_scores_cur\u001b[0m \u001b[0;34m=\u001b[0m \u001b[0mnp\u001b[0m\u001b[0;34m.\u001b[0m\u001b[0mzeros\u001b[0m\u001b[0;34m(\u001b[0m\u001b[0mCu\u001b[0m\u001b[0;34m.\u001b[0m\u001b[0mshape\u001b[0m\u001b[0;34m[\u001b[0m\u001b[0;36m1\u001b[0m\u001b[0;34m]\u001b[0m\u001b[0;34m)\u001b[0m\u001b[0;34m\u001b[0m\u001b[0;34m\u001b[0m\u001b[0m\n\u001b[1;32m     28\u001b[0m             \u001b[0;32mfor\u001b[0m \u001b[0mi\u001b[0m \u001b[0;32min\u001b[0m \u001b[0mrange\u001b[0m\u001b[0;34m(\u001b[0m\u001b[0mCu\u001b[0m\u001b[0;34m.\u001b[0m\u001b[0mshape\u001b[0m\u001b[0;34m[\u001b[0m\u001b[0;36m1\u001b[0m\u001b[0;34m]\u001b[0m\u001b[0;34m)\u001b[0m\u001b[0;34m:\u001b[0m\u001b[0;34m\u001b[0m\u001b[0;34m\u001b[0m\u001b[0m\n\u001b[0;32m---> 29\u001b[0;31m                 \u001b[0mridge_scores_cur\u001b[0m\u001b[0;34m[\u001b[0m\u001b[0mi\u001b[0m\u001b[0;34m]\u001b[0m \u001b[0;34m=\u001b[0m \u001b[0mCu\u001b[0m\u001b[0;34m[\u001b[0m\u001b[0mrow_ind\u001b[0m\u001b[0;34m,\u001b[0m \u001b[0mi\u001b[0m\u001b[0;34m]\u001b[0m\u001b[0;34m.\u001b[0m\u001b[0mT\u001b[0m \u001b[0;34m@\u001b[0m \u001b[0mmatrix_for_scores\u001b[0m \u001b[0;34m@\u001b[0m \u001b[0mCu\u001b[0m\u001b[0;34m[\u001b[0m\u001b[0mrow_ind\u001b[0m\u001b[0;34m,\u001b[0m \u001b[0mi\u001b[0m\u001b[0;34m]\u001b[0m\u001b[0;34m\u001b[0m\u001b[0;34m\u001b[0m\u001b[0m\n\u001b[0m\u001b[1;32m     30\u001b[0m             \u001b[0mridge_scores\u001b[0m \u001b[0;34m+=\u001b[0m \u001b[0mridge_scores_cur\u001b[0m\u001b[0;34m\u001b[0m\u001b[0;34m\u001b[0m\u001b[0m\n\u001b[1;32m     31\u001b[0m \u001b[0;34m\u001b[0m\u001b[0m\n",
      "\u001b[0;32m~/anaconda3/lib/python3.7/site-packages/scipy/sparse/lil.py\u001b[0m in \u001b[0;36m__getitem__\u001b[0;34m(self, key)\u001b[0m\n\u001b[1;32m    234\u001b[0m             \u001b[0;32mreturn\u001b[0m \u001b[0mself\u001b[0m\u001b[0;34m.\u001b[0m\u001b[0m_get_intXint\u001b[0m\u001b[0;34m(\u001b[0m\u001b[0;34m*\u001b[0m\u001b[0mkey\u001b[0m\u001b[0;34m)\u001b[0m\u001b[0;34m\u001b[0m\u001b[0;34m\u001b[0m\u001b[0m\n\u001b[1;32m    235\u001b[0m         \u001b[0;31m# Everything else takes the normal path.\u001b[0m\u001b[0;34m\u001b[0m\u001b[0;34m\u001b[0m\u001b[0;34m\u001b[0m\u001b[0m\n\u001b[0;32m--> 236\u001b[0;31m         \u001b[0;32mreturn\u001b[0m \u001b[0mIndexMixin\u001b[0m\u001b[0;34m.\u001b[0m\u001b[0m__getitem__\u001b[0m\u001b[0;34m(\u001b[0m\u001b[0mself\u001b[0m\u001b[0;34m,\u001b[0m \u001b[0mkey\u001b[0m\u001b[0;34m)\u001b[0m\u001b[0;34m\u001b[0m\u001b[0;34m\u001b[0m\u001b[0m\n\u001b[0m\u001b[1;32m    237\u001b[0m \u001b[0;34m\u001b[0m\u001b[0m\n\u001b[1;32m    238\u001b[0m     \u001b[0;32mdef\u001b[0m \u001b[0m_get_intXint\u001b[0m\u001b[0;34m(\u001b[0m\u001b[0mself\u001b[0m\u001b[0;34m,\u001b[0m \u001b[0mrow\u001b[0m\u001b[0;34m,\u001b[0m \u001b[0mcol\u001b[0m\u001b[0;34m)\u001b[0m\u001b[0;34m:\u001b[0m\u001b[0;34m\u001b[0m\u001b[0;34m\u001b[0m\u001b[0m\n",
      "\u001b[0;32m~/anaconda3/lib/python3.7/site-packages/scipy/sparse/_index.py\u001b[0m in \u001b[0;36m__getitem__\u001b[0;34m(self, key)\u001b[0m\n\u001b[1;32m     18\u001b[0m     \"\"\"\n\u001b[1;32m     19\u001b[0m     \u001b[0;32mdef\u001b[0m \u001b[0m__getitem__\u001b[0m\u001b[0;34m(\u001b[0m\u001b[0mself\u001b[0m\u001b[0;34m,\u001b[0m \u001b[0mkey\u001b[0m\u001b[0;34m)\u001b[0m\u001b[0;34m:\u001b[0m\u001b[0;34m\u001b[0m\u001b[0;34m\u001b[0m\u001b[0m\n\u001b[0;32m---> 20\u001b[0;31m         \u001b[0mrow\u001b[0m\u001b[0;34m,\u001b[0m \u001b[0mcol\u001b[0m \u001b[0;34m=\u001b[0m \u001b[0mself\u001b[0m\u001b[0;34m.\u001b[0m\u001b[0m_validate_indices\u001b[0m\u001b[0;34m(\u001b[0m\u001b[0mkey\u001b[0m\u001b[0;34m)\u001b[0m\u001b[0;34m\u001b[0m\u001b[0;34m\u001b[0m\u001b[0m\n\u001b[0m\u001b[1;32m     21\u001b[0m         \u001b[0;31m# Dispatch to specialized methods.\u001b[0m\u001b[0;34m\u001b[0m\u001b[0;34m\u001b[0m\u001b[0;34m\u001b[0m\u001b[0m\n\u001b[1;32m     22\u001b[0m         \u001b[0;32mif\u001b[0m \u001b[0misinstance\u001b[0m\u001b[0;34m(\u001b[0m\u001b[0mrow\u001b[0m\u001b[0;34m,\u001b[0m \u001b[0mINT_TYPES\u001b[0m\u001b[0;34m)\u001b[0m\u001b[0;34m:\u001b[0m\u001b[0;34m\u001b[0m\u001b[0;34m\u001b[0m\u001b[0m\n",
      "\u001b[0;32m~/anaconda3/lib/python3.7/site-packages/scipy/sparse/_index.py\u001b[0m in \u001b[0;36m_validate_indices\u001b[0;34m(self, key)\u001b[0m\n\u001b[1;32m    125\u001b[0m             \u001b[0mrow\u001b[0m \u001b[0;34m=\u001b[0m \u001b[0mself\u001b[0m\u001b[0;34m.\u001b[0m\u001b[0m_asindices\u001b[0m\u001b[0;34m(\u001b[0m\u001b[0mrow\u001b[0m\u001b[0;34m,\u001b[0m \u001b[0mM\u001b[0m\u001b[0;34m)\u001b[0m\u001b[0;34m\u001b[0m\u001b[0;34m\u001b[0m\u001b[0m\n\u001b[1;32m    126\u001b[0m \u001b[0;34m\u001b[0m\u001b[0m\n\u001b[0;32m--> 127\u001b[0;31m         \u001b[0;32mif\u001b[0m \u001b[0misintlike\u001b[0m\u001b[0;34m(\u001b[0m\u001b[0mcol\u001b[0m\u001b[0;34m)\u001b[0m\u001b[0;34m:\u001b[0m\u001b[0;34m\u001b[0m\u001b[0;34m\u001b[0m\u001b[0m\n\u001b[0m\u001b[1;32m    128\u001b[0m             \u001b[0mcol\u001b[0m \u001b[0;34m=\u001b[0m \u001b[0mint\u001b[0m\u001b[0;34m(\u001b[0m\u001b[0mcol\u001b[0m\u001b[0;34m)\u001b[0m\u001b[0;34m\u001b[0m\u001b[0;34m\u001b[0m\u001b[0m\n\u001b[1;32m    129\u001b[0m             \u001b[0;32mif\u001b[0m \u001b[0mcol\u001b[0m \u001b[0;34m<\u001b[0m \u001b[0;34m-\u001b[0m\u001b[0mN\u001b[0m \u001b[0;32mor\u001b[0m \u001b[0mcol\u001b[0m \u001b[0;34m>=\u001b[0m \u001b[0mN\u001b[0m\u001b[0;34m:\u001b[0m\u001b[0;34m\u001b[0m\u001b[0;34m\u001b[0m\u001b[0m\n",
      "\u001b[0;32m~/anaconda3/lib/python3.7/site-packages/scipy/sparse/sputils.py\u001b[0m in \u001b[0;36misintlike\u001b[0;34m(x)\u001b[0m\n\u001b[1;32m    191\u001b[0m     \u001b[0;31m# Fast-path check to eliminate non-scalar values. operator.index would\u001b[0m\u001b[0;34m\u001b[0m\u001b[0;34m\u001b[0m\u001b[0;34m\u001b[0m\u001b[0m\n\u001b[1;32m    192\u001b[0m     \u001b[0;31m# catch this case too, but the exception catching is slow.\u001b[0m\u001b[0;34m\u001b[0m\u001b[0;34m\u001b[0m\u001b[0;34m\u001b[0m\u001b[0m\n\u001b[0;32m--> 193\u001b[0;31m     \u001b[0;32mif\u001b[0m \u001b[0mnp\u001b[0m\u001b[0;34m.\u001b[0m\u001b[0mndim\u001b[0m\u001b[0;34m(\u001b[0m\u001b[0mx\u001b[0m\u001b[0;34m)\u001b[0m \u001b[0;34m!=\u001b[0m \u001b[0;36m0\u001b[0m\u001b[0;34m:\u001b[0m\u001b[0;34m\u001b[0m\u001b[0;34m\u001b[0m\u001b[0m\n\u001b[0m\u001b[1;32m    194\u001b[0m         \u001b[0;32mreturn\u001b[0m \u001b[0;32mFalse\u001b[0m\u001b[0;34m\u001b[0m\u001b[0;34m\u001b[0m\u001b[0m\n\u001b[1;32m    195\u001b[0m     \u001b[0;32mtry\u001b[0m\u001b[0;34m:\u001b[0m\u001b[0;34m\u001b[0m\u001b[0;34m\u001b[0m\u001b[0m\n",
      "\u001b[0;32m~/anaconda3/lib/python3.7/site-packages/numpy/core/fromnumeric.py\u001b[0m in \u001b[0;36mndim\u001b[0;34m(a)\u001b[0m\n\u001b[1;32m   2878\u001b[0m     \"\"\"\n\u001b[1;32m   2879\u001b[0m     \u001b[0;32mtry\u001b[0m\u001b[0;34m:\u001b[0m\u001b[0;34m\u001b[0m\u001b[0;34m\u001b[0m\u001b[0m\n\u001b[0;32m-> 2880\u001b[0;31m         \u001b[0;32mreturn\u001b[0m \u001b[0ma\u001b[0m\u001b[0;34m.\u001b[0m\u001b[0mndim\u001b[0m\u001b[0;34m\u001b[0m\u001b[0;34m\u001b[0m\u001b[0m\n\u001b[0m\u001b[1;32m   2881\u001b[0m     \u001b[0;32mexcept\u001b[0m \u001b[0mAttributeError\u001b[0m\u001b[0;34m:\u001b[0m\u001b[0;34m\u001b[0m\u001b[0;34m\u001b[0m\u001b[0m\n\u001b[1;32m   2882\u001b[0m         \u001b[0;32mreturn\u001b[0m \u001b[0masarray\u001b[0m\u001b[0;34m(\u001b[0m\u001b[0ma\u001b[0m\u001b[0;34m)\u001b[0m\u001b[0;34m.\u001b[0m\u001b[0mndim\u001b[0m\u001b[0;34m\u001b[0m\u001b[0;34m\u001b[0m\u001b[0m\n",
      "\u001b[0;31mKeyboardInterrupt\u001b[0m: "
     ]
    }
   ],
   "source": [
    "# movielens\n",
    "\n",
    "print('SVD')\n",
    "U, s, Vt = get_trunc_SVD(A, k)\n",
    "print(np.linalg.norm(A - (U * s) @ Vt))\n",
    "print()\n",
    "\n",
    "print('Randomized ridge')\n",
    "C, U, R = get_CUR_ridge_randomized(A, k)\n",
    "print(np.linalg.norm(A - C @ U @ R))\n",
    "print()\n",
    "\n",
    "print('Stat. leverage')\n",
    "eps = 1\n",
    "C, U, R = CUR_leverage(A, k, eps)\n",
    "print(np.linalg.norm(A - C @ U @ R))\n",
    "print()\n",
    "\n",
    "print('CUR norms')\n",
    "C, U, R = get_CUR_sample_l2_norm(A, k)\n",
    "print(np.linalg.norm(A - C @ U @ R))\n",
    "print()\n",
    "\n",
    "print('Naive CUR')\n",
    "C, U, R = get_CUR_naive(A, k)\n",
    "print(np.linalg.norm(A - C @ U @ R))\n",
    "print()\n",
    "\n",
    "for func in [maxvol_cols_probs]:\n",
    "    print(func)\n",
    "    C, U, R = get_CUR_maxvol(A, k, func)\n",
    "    print(np.linalg.norm(A - C @ U @ R))\n",
    "    print()"
   ]
  },
  {
   "cell_type": "code",
   "execution_count": 314,
   "metadata": {},
   "outputs": [],
   "source": [
    "A = scipy.io.loadmat('./California.mat')\n",
    "A = A['Problem'][0][0][2] # csc matrix, full rank\n",
    "k = 800"
   ]
  },
  {
   "cell_type": "code",
   "execution_count": null,
   "metadata": {},
   "outputs": [],
   "source": [
    "A = scipy.io.loadmat('./EPA.mat')\n",
    "A = A['Problem'][0][0][2] # csc matrix, full rank\n",
    "k = 500"
   ]
  },
  {
   "cell_type": "code",
   "execution_count": 274,
   "metadata": {},
   "outputs": [],
   "source": [
    "A = scipy.io.loadmat('./EVA.mat')\n",
    "A = A['Problem'][0][0][2] # csc matrix, full rank\n",
    "k = 900"
   ]
  },
  {
   "cell_type": "code",
   "execution_count": 275,
   "metadata": {},
   "outputs": [
    {
     "data": {
      "text/plain": [
       "(8497, 8497)"
      ]
     },
     "execution_count": 275,
     "metadata": {},
     "output_type": "execute_result"
    }
   ],
   "source": [
    "A.shape"
   ]
  },
  {
   "cell_type": "code",
   "execution_count": 276,
   "metadata": {
    "scrolled": true
   },
   "outputs": [
    {
     "name": "stdout",
     "output_type": "stream",
     "text": [
      "SVD\n",
      "19.437317006025502\n",
      "\n",
      "Randomized ridge\n",
      "65.60792283974617\n",
      "\n",
      "Stat. leverage\n",
      "49.50589362794262\n",
      "\n",
      "CUR norms\n",
      "45.243652943091256\n",
      "\n",
      "Naive CUR\n",
      "79.44345480796812\n",
      "\n",
      "<function maxvol_cols_probs at 0x7f92119b4268>\n",
      "8626880138.482277\n",
      "\n",
      "<function maxvol_statistical at 0x7f9212579620>\n"
     ]
    },
    {
     "ename": "ValueError",
     "evalue": "k must be between 1 and min(A.shape), k=900",
     "output_type": "error",
     "traceback": [
      "\u001b[0;31m---------------------------------------------------------------------------\u001b[0m",
      "\u001b[0;31mValueError\u001b[0m                                Traceback (most recent call last)",
      "\u001b[0;32m<ipython-input-276-69019e484665>\u001b[0m in \u001b[0;36m<module>\u001b[0;34m\u001b[0m\n\u001b[1;32m     30\u001b[0m \u001b[0;32mfor\u001b[0m \u001b[0mfunc\u001b[0m \u001b[0;32min\u001b[0m \u001b[0;34m[\u001b[0m\u001b[0mmaxvol_cols_probs\u001b[0m\u001b[0;34m,\u001b[0m \u001b[0mmaxvol_statistical\u001b[0m\u001b[0;34m]\u001b[0m\u001b[0;34m:\u001b[0m\u001b[0;34m\u001b[0m\u001b[0;34m\u001b[0m\u001b[0m\n\u001b[1;32m     31\u001b[0m     \u001b[0mprint\u001b[0m\u001b[0;34m(\u001b[0m\u001b[0mfunc\u001b[0m\u001b[0;34m)\u001b[0m\u001b[0;34m\u001b[0m\u001b[0;34m\u001b[0m\u001b[0m\n\u001b[0;32m---> 32\u001b[0;31m     \u001b[0mC\u001b[0m\u001b[0;34m,\u001b[0m \u001b[0mU\u001b[0m\u001b[0;34m,\u001b[0m \u001b[0mR\u001b[0m \u001b[0;34m=\u001b[0m \u001b[0mget_CUR_maxvol\u001b[0m\u001b[0;34m(\u001b[0m\u001b[0mA\u001b[0m\u001b[0;34m,\u001b[0m \u001b[0mk\u001b[0m\u001b[0;34m,\u001b[0m \u001b[0mfunc\u001b[0m\u001b[0;34m)\u001b[0m\u001b[0;34m\u001b[0m\u001b[0;34m\u001b[0m\u001b[0m\n\u001b[0m\u001b[1;32m     33\u001b[0m     \u001b[0mprint\u001b[0m\u001b[0;34m(\u001b[0m\u001b[0mnp\u001b[0m\u001b[0;34m.\u001b[0m\u001b[0mlinalg\u001b[0m\u001b[0;34m.\u001b[0m\u001b[0mnorm\u001b[0m\u001b[0;34m(\u001b[0m\u001b[0mA\u001b[0m \u001b[0;34m-\u001b[0m \u001b[0mC\u001b[0m \u001b[0;34m@\u001b[0m \u001b[0mU\u001b[0m \u001b[0;34m@\u001b[0m \u001b[0mR\u001b[0m\u001b[0;34m)\u001b[0m\u001b[0;34m)\u001b[0m\u001b[0;34m\u001b[0m\u001b[0;34m\u001b[0m\u001b[0m\n\u001b[1;32m     34\u001b[0m     \u001b[0mprint\u001b[0m\u001b[0;34m(\u001b[0m\u001b[0;34m)\u001b[0m\u001b[0;34m\u001b[0m\u001b[0;34m\u001b[0m\u001b[0m\n",
      "\u001b[0;32m<ipython-input-209-c2019d91dc6f>\u001b[0m in \u001b[0;36mget_CUR_maxvol\u001b[0;34m(A, k, func)\u001b[0m\n\u001b[1;32m      2\u001b[0m     \u001b[0mrows\u001b[0m \u001b[0;34m=\u001b[0m \u001b[0mfunc\u001b[0m\u001b[0;34m(\u001b[0m\u001b[0mA\u001b[0m\u001b[0;34m,\u001b[0m \u001b[0mk\u001b[0m\u001b[0;34m)\u001b[0m\u001b[0;34m\u001b[0m\u001b[0;34m\u001b[0m\u001b[0m\n\u001b[1;32m      3\u001b[0m     \u001b[0mR\u001b[0m \u001b[0;34m=\u001b[0m \u001b[0mA\u001b[0m\u001b[0;34m[\u001b[0m\u001b[0mrows\u001b[0m\u001b[0;34m]\u001b[0m\u001b[0;34m\u001b[0m\u001b[0;34m\u001b[0m\u001b[0m\n\u001b[0;32m----> 4\u001b[0;31m     \u001b[0mcols\u001b[0m \u001b[0;34m=\u001b[0m \u001b[0mfunc\u001b[0m\u001b[0;34m(\u001b[0m\u001b[0mR\u001b[0m\u001b[0;34m.\u001b[0m\u001b[0mT\u001b[0m\u001b[0;34m,\u001b[0m \u001b[0mk\u001b[0m\u001b[0;34m)\u001b[0m\u001b[0;34m\u001b[0m\u001b[0;34m\u001b[0m\u001b[0m\n\u001b[0m\u001b[1;32m      5\u001b[0m     \u001b[0mC\u001b[0m \u001b[0;34m=\u001b[0m \u001b[0mA\u001b[0m\u001b[0;34m[\u001b[0m\u001b[0;34m:\u001b[0m\u001b[0;34m,\u001b[0m \u001b[0mcols\u001b[0m\u001b[0;34m]\u001b[0m\u001b[0;34m\u001b[0m\u001b[0;34m\u001b[0m\u001b[0m\n\u001b[1;32m      6\u001b[0m     \u001b[0;32mif\u001b[0m \u001b[0mscipy\u001b[0m\u001b[0;34m.\u001b[0m\u001b[0msparse\u001b[0m\u001b[0;34m.\u001b[0m\u001b[0missparse\u001b[0m\u001b[0;34m(\u001b[0m\u001b[0mA\u001b[0m\u001b[0;34m)\u001b[0m\u001b[0;34m:\u001b[0m\u001b[0;34m\u001b[0m\u001b[0;34m\u001b[0m\u001b[0m\n",
      "\u001b[0;32m<ipython-input-242-c6f7cb3eeb80>\u001b[0m in \u001b[0;36mmaxvol_statistical\u001b[0;34m(data, r)\u001b[0m\n\u001b[1;32m     49\u001b[0m         \u001b[0mA\u001b[0m \u001b[0;34m=\u001b[0m \u001b[0mspsp\u001b[0m\u001b[0;34m.\u001b[0m\u001b[0mlil\u001b[0m\u001b[0;34m.\u001b[0m\u001b[0mlil_matrix\u001b[0m\u001b[0;34m(\u001b[0m\u001b[0mA\u001b[0m\u001b[0;34m)\u001b[0m\u001b[0;34m\u001b[0m\u001b[0;34m\u001b[0m\u001b[0m\n\u001b[1;32m     50\u001b[0m \u001b[0;34m\u001b[0m\u001b[0m\n\u001b[0;32m---> 51\u001b[0;31m     \u001b[0m_\u001b[0m\u001b[0;34m,\u001b[0m \u001b[0mrows\u001b[0m \u001b[0;34m=\u001b[0m \u001b[0mColumnSelect\u001b[0m\u001b[0;34m(\u001b[0m\u001b[0mA\u001b[0m\u001b[0;34m.\u001b[0m\u001b[0mT\u001b[0m\u001b[0;34m,\u001b[0m \u001b[0mr\u001b[0m\u001b[0;34m,\u001b[0m \u001b[0;36m1\u001b[0m\u001b[0;34m)\u001b[0m \u001b[0;31m# sample rows\u001b[0m\u001b[0;34m\u001b[0m\u001b[0;34m\u001b[0m\u001b[0m\n\u001b[0m\u001b[1;32m     52\u001b[0m     \u001b[0;32mif\u001b[0m \u001b[0mA\u001b[0m\u001b[0;34m.\u001b[0m\u001b[0mshape\u001b[0m\u001b[0;34m[\u001b[0m\u001b[0;36m1\u001b[0m\u001b[0;34m]\u001b[0m \u001b[0;34m>\u001b[0m \u001b[0mr\u001b[0m\u001b[0;34m:\u001b[0m\u001b[0;34m\u001b[0m\u001b[0;34m\u001b[0m\u001b[0m\n\u001b[1;32m     53\u001b[0m         \u001b[0mA\u001b[0m\u001b[0;34m,\u001b[0m \u001b[0mcols\u001b[0m \u001b[0;34m=\u001b[0m \u001b[0mColumnSelect\u001b[0m\u001b[0;34m(\u001b[0m\u001b[0mA\u001b[0m\u001b[0;34m,\u001b[0m \u001b[0mr\u001b[0m\u001b[0;34m,\u001b[0m \u001b[0;36m1\u001b[0m\u001b[0;34m)\u001b[0m\u001b[0;34m\u001b[0m\u001b[0;34m\u001b[0m\u001b[0m\n",
      "\u001b[0;32m<ipython-input-144-b5edfd1b47d2>\u001b[0m in \u001b[0;36mColumnSelect\u001b[0;34m(A, k, eps)\u001b[0m\n\u001b[1;32m      5\u001b[0m         \u001b[0mv\u001b[0m \u001b[0;34m=\u001b[0m \u001b[0mvh\u001b[0m\u001b[0;34m[\u001b[0m\u001b[0;34m:\u001b[0m\u001b[0mk\u001b[0m\u001b[0;34m,\u001b[0m\u001b[0;34m:\u001b[0m\u001b[0;34m]\u001b[0m\u001b[0;34m\u001b[0m\u001b[0;34m\u001b[0m\u001b[0m\n\u001b[1;32m      6\u001b[0m     \u001b[0;32melse\u001b[0m\u001b[0;34m:\u001b[0m\u001b[0;34m\u001b[0m\u001b[0;34m\u001b[0m\u001b[0m\n\u001b[0;32m----> 7\u001b[0;31m         \u001b[0mu\u001b[0m\u001b[0;34m,\u001b[0m \u001b[0ms\u001b[0m\u001b[0;34m,\u001b[0m \u001b[0mv\u001b[0m \u001b[0;34m=\u001b[0m \u001b[0mscipy\u001b[0m\u001b[0;34m.\u001b[0m\u001b[0msparse\u001b[0m\u001b[0;34m.\u001b[0m\u001b[0mlinalg\u001b[0m\u001b[0;34m.\u001b[0m\u001b[0msvds\u001b[0m\u001b[0;34m(\u001b[0m\u001b[0mA\u001b[0m\u001b[0;34m,\u001b[0m \u001b[0mk\u001b[0m\u001b[0;34m=\u001b[0m\u001b[0mk\u001b[0m\u001b[0;34m)\u001b[0m\u001b[0;34m\u001b[0m\u001b[0;34m\u001b[0m\u001b[0m\n\u001b[0m\u001b[1;32m      8\u001b[0m \u001b[0;34m\u001b[0m\u001b[0m\n\u001b[1;32m      9\u001b[0m     \u001b[0mv_squared\u001b[0m \u001b[0;34m=\u001b[0m \u001b[0mnp\u001b[0m\u001b[0;34m.\u001b[0m\u001b[0msquare\u001b[0m\u001b[0;34m(\u001b[0m\u001b[0mv\u001b[0m\u001b[0;34m)\u001b[0m\u001b[0;34m\u001b[0m\u001b[0;34m\u001b[0m\u001b[0m\n",
      "\u001b[0;32m~/anaconda3/lib/python3.7/site-packages/scipy/sparse/linalg/eigen/arpack/arpack.py\u001b[0m in \u001b[0;36msvds\u001b[0;34m(A, k, ncv, tol, which, v0, maxiter, return_singular_vectors)\u001b[0m\n\u001b[1;32m   1784\u001b[0m \u001b[0;34m\u001b[0m\u001b[0m\n\u001b[1;32m   1785\u001b[0m     \u001b[0;32mif\u001b[0m \u001b[0mk\u001b[0m \u001b[0;34m<=\u001b[0m \u001b[0;36m0\u001b[0m \u001b[0;32mor\u001b[0m \u001b[0mk\u001b[0m \u001b[0;34m>=\u001b[0m \u001b[0mmin\u001b[0m\u001b[0;34m(\u001b[0m\u001b[0mn\u001b[0m\u001b[0;34m,\u001b[0m \u001b[0mm\u001b[0m\u001b[0;34m)\u001b[0m\u001b[0;34m:\u001b[0m\u001b[0;34m\u001b[0m\u001b[0;34m\u001b[0m\u001b[0m\n\u001b[0;32m-> 1786\u001b[0;31m         \u001b[0;32mraise\u001b[0m \u001b[0mValueError\u001b[0m\u001b[0;34m(\u001b[0m\u001b[0;34m\"k must be between 1 and min(A.shape), k=%d\"\u001b[0m \u001b[0;34m%\u001b[0m \u001b[0mk\u001b[0m\u001b[0;34m)\u001b[0m\u001b[0;34m\u001b[0m\u001b[0;34m\u001b[0m\u001b[0m\n\u001b[0m\u001b[1;32m   1787\u001b[0m \u001b[0;34m\u001b[0m\u001b[0m\n\u001b[1;32m   1788\u001b[0m     \u001b[0;32mif\u001b[0m \u001b[0misinstance\u001b[0m\u001b[0;34m(\u001b[0m\u001b[0mA\u001b[0m\u001b[0;34m,\u001b[0m \u001b[0mLinearOperator\u001b[0m\u001b[0;34m)\u001b[0m\u001b[0;34m:\u001b[0m\u001b[0;34m\u001b[0m\u001b[0;34m\u001b[0m\u001b[0m\n",
      "\u001b[0;31mValueError\u001b[0m: k must be between 1 and min(A.shape), k=900"
     ]
    }
   ],
   "source": [
    "# random sparse matrix\n",
    "#dense random matrix\n",
    "\n",
    "print('SVD')\n",
    "U, s, Vt = get_trunc_SVD(A, k)\n",
    "print(np.linalg.norm(A - (U * s) @ Vt))\n",
    "print()\n",
    "\n",
    "print('Randomized ridge')\n",
    "C, U, R = get_CUR_ridge_randomized(A, k)\n",
    "print(np.linalg.norm(A - C @ U @ R))\n",
    "print()\n",
    "\n",
    "print('Stat. leverage')\n",
    "eps = 1\n",
    "C, U, R = CUR_leverage(A, k, eps)\n",
    "print(np.linalg.norm(A - C @ U @ R))\n",
    "print()\n",
    "\n",
    "print('CUR norms')\n",
    "C, U, R = get_CUR_sample_l2_norm(A, k)\n",
    "print(np.linalg.norm(A - C @ U @ R))\n",
    "print()\n",
    "\n",
    "print('Naive CUR')\n",
    "C, U, R = get_CUR_naive(A, k)\n",
    "print(np.linalg.norm(A - C @ U @ R))\n",
    "print()\n",
    "\n",
    "for func in [maxvol_cols_probs]:\n",
    "    print(func)\n",
    "    C, U, R = get_CUR_maxvol(A, k, func)\n",
    "    print(np.linalg.norm(A - C @ U @ R))\n",
    "    print()"
   ]
  },
  {
   "cell_type": "markdown",
   "metadata": {},
   "source": [
    "### Timing"
   ]
  },
  {
   "cell_type": "code",
   "execution_count": 309,
   "metadata": {
    "scrolled": true
   },
   "outputs": [
    {
     "name": "stdout",
     "output_type": "stream",
     "text": [
      "SVD\n",
      "16.5 s ± 2.91 s per loop (mean ± std. dev. of 3 runs, 1 loop each)\n",
      "\n",
      "Ridge\n"
     ]
    },
    {
     "ename": "KeyboardInterrupt",
     "evalue": "",
     "output_type": "error",
     "traceback": [
      "\u001b[0;31m---------------------------------------------------------------------------\u001b[0m",
      "\u001b[0;31mKeyboardInterrupt\u001b[0m                         Traceback (most recent call last)",
      "\u001b[0;32m<ipython-input-309-17840a78cb80>\u001b[0m in \u001b[0;36m<module>\u001b[0;34m\u001b[0m\n\u001b[1;32m      8\u001b[0m \u001b[0;34m\u001b[0m\u001b[0m\n\u001b[1;32m      9\u001b[0m \u001b[0mprint\u001b[0m\u001b[0;34m(\u001b[0m\u001b[0;34m'Ridge'\u001b[0m\u001b[0;34m)\u001b[0m\u001b[0;34m\u001b[0m\u001b[0;34m\u001b[0m\u001b[0m\n\u001b[0;32m---> 10\u001b[0;31m \u001b[0mres\u001b[0m \u001b[0;34m=\u001b[0m \u001b[0mget_ipython\u001b[0m\u001b[0;34m(\u001b[0m\u001b[0;34m)\u001b[0m\u001b[0;34m.\u001b[0m\u001b[0mrun_line_magic\u001b[0m\u001b[0;34m(\u001b[0m\u001b[0;34m'timeit'\u001b[0m\u001b[0;34m,\u001b[0m \u001b[0;34m'-o -n1 -r3 get_CUR_ridge(A, k)'\u001b[0m\u001b[0;34m)\u001b[0m\u001b[0;34m\u001b[0m\u001b[0;34m\u001b[0m\u001b[0m\n\u001b[0m\u001b[1;32m     11\u001b[0m \u001b[0mtimes\u001b[0m\u001b[0;34m.\u001b[0m\u001b[0mappend\u001b[0m\u001b[0;34m(\u001b[0m\u001b[0mres\u001b[0m\u001b[0;34m.\u001b[0m\u001b[0maverage\u001b[0m\u001b[0;34m)\u001b[0m\u001b[0;34m\u001b[0m\u001b[0;34m\u001b[0m\u001b[0m\n\u001b[1;32m     12\u001b[0m \u001b[0mprint\u001b[0m\u001b[0;34m(\u001b[0m\u001b[0;34m)\u001b[0m\u001b[0;34m\u001b[0m\u001b[0;34m\u001b[0m\u001b[0m\n",
      "\u001b[0;32m~/anaconda3/lib/python3.7/site-packages/IPython/core/interactiveshell.py\u001b[0m in \u001b[0;36mrun_line_magic\u001b[0;34m(self, magic_name, line, _stack_depth)\u001b[0m\n\u001b[1;32m   2311\u001b[0m                 \u001b[0mkwargs\u001b[0m\u001b[0;34m[\u001b[0m\u001b[0;34m'local_ns'\u001b[0m\u001b[0;34m]\u001b[0m \u001b[0;34m=\u001b[0m \u001b[0msys\u001b[0m\u001b[0;34m.\u001b[0m\u001b[0m_getframe\u001b[0m\u001b[0;34m(\u001b[0m\u001b[0mstack_depth\u001b[0m\u001b[0;34m)\u001b[0m\u001b[0;34m.\u001b[0m\u001b[0mf_locals\u001b[0m\u001b[0;34m\u001b[0m\u001b[0;34m\u001b[0m\u001b[0m\n\u001b[1;32m   2312\u001b[0m             \u001b[0;32mwith\u001b[0m \u001b[0mself\u001b[0m\u001b[0;34m.\u001b[0m\u001b[0mbuiltin_trap\u001b[0m\u001b[0;34m:\u001b[0m\u001b[0;34m\u001b[0m\u001b[0;34m\u001b[0m\u001b[0m\n\u001b[0;32m-> 2313\u001b[0;31m                 \u001b[0mresult\u001b[0m \u001b[0;34m=\u001b[0m \u001b[0mfn\u001b[0m\u001b[0;34m(\u001b[0m\u001b[0;34m*\u001b[0m\u001b[0margs\u001b[0m\u001b[0;34m,\u001b[0m \u001b[0;34m**\u001b[0m\u001b[0mkwargs\u001b[0m\u001b[0;34m)\u001b[0m\u001b[0;34m\u001b[0m\u001b[0;34m\u001b[0m\u001b[0m\n\u001b[0m\u001b[1;32m   2314\u001b[0m             \u001b[0;32mreturn\u001b[0m \u001b[0mresult\u001b[0m\u001b[0;34m\u001b[0m\u001b[0;34m\u001b[0m\u001b[0m\n\u001b[1;32m   2315\u001b[0m \u001b[0;34m\u001b[0m\u001b[0m\n",
      "\u001b[0;32m</home/dasha/anaconda3/lib/python3.7/site-packages/decorator.py:decorator-gen-60>\u001b[0m in \u001b[0;36mtimeit\u001b[0;34m(self, line, cell, local_ns)\u001b[0m\n",
      "\u001b[0;32m~/anaconda3/lib/python3.7/site-packages/IPython/core/magic.py\u001b[0m in \u001b[0;36m<lambda>\u001b[0;34m(f, *a, **k)\u001b[0m\n\u001b[1;32m    185\u001b[0m     \u001b[0;31m# but it's overkill for just that one bit of state.\u001b[0m\u001b[0;34m\u001b[0m\u001b[0;34m\u001b[0m\u001b[0;34m\u001b[0m\u001b[0m\n\u001b[1;32m    186\u001b[0m     \u001b[0;32mdef\u001b[0m \u001b[0mmagic_deco\u001b[0m\u001b[0;34m(\u001b[0m\u001b[0marg\u001b[0m\u001b[0;34m)\u001b[0m\u001b[0;34m:\u001b[0m\u001b[0;34m\u001b[0m\u001b[0;34m\u001b[0m\u001b[0m\n\u001b[0;32m--> 187\u001b[0;31m         \u001b[0mcall\u001b[0m \u001b[0;34m=\u001b[0m \u001b[0;32mlambda\u001b[0m \u001b[0mf\u001b[0m\u001b[0;34m,\u001b[0m \u001b[0;34m*\u001b[0m\u001b[0ma\u001b[0m\u001b[0;34m,\u001b[0m \u001b[0;34m**\u001b[0m\u001b[0mk\u001b[0m\u001b[0;34m:\u001b[0m \u001b[0mf\u001b[0m\u001b[0;34m(\u001b[0m\u001b[0;34m*\u001b[0m\u001b[0ma\u001b[0m\u001b[0;34m,\u001b[0m \u001b[0;34m**\u001b[0m\u001b[0mk\u001b[0m\u001b[0;34m)\u001b[0m\u001b[0;34m\u001b[0m\u001b[0;34m\u001b[0m\u001b[0m\n\u001b[0m\u001b[1;32m    188\u001b[0m \u001b[0;34m\u001b[0m\u001b[0m\n\u001b[1;32m    189\u001b[0m         \u001b[0;32mif\u001b[0m \u001b[0mcallable\u001b[0m\u001b[0;34m(\u001b[0m\u001b[0marg\u001b[0m\u001b[0;34m)\u001b[0m\u001b[0;34m:\u001b[0m\u001b[0;34m\u001b[0m\u001b[0;34m\u001b[0m\u001b[0m\n",
      "\u001b[0;32m~/anaconda3/lib/python3.7/site-packages/IPython/core/magics/execution.py\u001b[0m in \u001b[0;36mtimeit\u001b[0;34m(self, line, cell, local_ns)\u001b[0m\n\u001b[1;32m   1160\u001b[0m                     \u001b[0;32mbreak\u001b[0m\u001b[0;34m\u001b[0m\u001b[0;34m\u001b[0m\u001b[0m\n\u001b[1;32m   1161\u001b[0m \u001b[0;34m\u001b[0m\u001b[0m\n\u001b[0;32m-> 1162\u001b[0;31m         \u001b[0mall_runs\u001b[0m \u001b[0;34m=\u001b[0m \u001b[0mtimer\u001b[0m\u001b[0;34m.\u001b[0m\u001b[0mrepeat\u001b[0m\u001b[0;34m(\u001b[0m\u001b[0mrepeat\u001b[0m\u001b[0;34m,\u001b[0m \u001b[0mnumber\u001b[0m\u001b[0;34m)\u001b[0m\u001b[0;34m\u001b[0m\u001b[0;34m\u001b[0m\u001b[0m\n\u001b[0m\u001b[1;32m   1163\u001b[0m         \u001b[0mbest\u001b[0m \u001b[0;34m=\u001b[0m \u001b[0mmin\u001b[0m\u001b[0;34m(\u001b[0m\u001b[0mall_runs\u001b[0m\u001b[0;34m)\u001b[0m \u001b[0;34m/\u001b[0m \u001b[0mnumber\u001b[0m\u001b[0;34m\u001b[0m\u001b[0;34m\u001b[0m\u001b[0m\n\u001b[1;32m   1164\u001b[0m         \u001b[0mworst\u001b[0m \u001b[0;34m=\u001b[0m \u001b[0mmax\u001b[0m\u001b[0;34m(\u001b[0m\u001b[0mall_runs\u001b[0m\u001b[0;34m)\u001b[0m \u001b[0;34m/\u001b[0m \u001b[0mnumber\u001b[0m\u001b[0;34m\u001b[0m\u001b[0;34m\u001b[0m\u001b[0m\n",
      "\u001b[0;32m~/anaconda3/lib/python3.7/timeit.py\u001b[0m in \u001b[0;36mrepeat\u001b[0;34m(self, repeat, number)\u001b[0m\n\u001b[1;32m    202\u001b[0m         \u001b[0mr\u001b[0m \u001b[0;34m=\u001b[0m \u001b[0;34m[\u001b[0m\u001b[0;34m]\u001b[0m\u001b[0;34m\u001b[0m\u001b[0;34m\u001b[0m\u001b[0m\n\u001b[1;32m    203\u001b[0m         \u001b[0;32mfor\u001b[0m \u001b[0mi\u001b[0m \u001b[0;32min\u001b[0m \u001b[0mrange\u001b[0m\u001b[0;34m(\u001b[0m\u001b[0mrepeat\u001b[0m\u001b[0;34m)\u001b[0m\u001b[0;34m:\u001b[0m\u001b[0;34m\u001b[0m\u001b[0;34m\u001b[0m\u001b[0m\n\u001b[0;32m--> 204\u001b[0;31m             \u001b[0mt\u001b[0m \u001b[0;34m=\u001b[0m \u001b[0mself\u001b[0m\u001b[0;34m.\u001b[0m\u001b[0mtimeit\u001b[0m\u001b[0;34m(\u001b[0m\u001b[0mnumber\u001b[0m\u001b[0;34m)\u001b[0m\u001b[0;34m\u001b[0m\u001b[0;34m\u001b[0m\u001b[0m\n\u001b[0m\u001b[1;32m    205\u001b[0m             \u001b[0mr\u001b[0m\u001b[0;34m.\u001b[0m\u001b[0mappend\u001b[0m\u001b[0;34m(\u001b[0m\u001b[0mt\u001b[0m\u001b[0;34m)\u001b[0m\u001b[0;34m\u001b[0m\u001b[0;34m\u001b[0m\u001b[0m\n\u001b[1;32m    206\u001b[0m         \u001b[0;32mreturn\u001b[0m \u001b[0mr\u001b[0m\u001b[0;34m\u001b[0m\u001b[0;34m\u001b[0m\u001b[0m\n",
      "\u001b[0;32m~/anaconda3/lib/python3.7/site-packages/IPython/core/magics/execution.py\u001b[0m in \u001b[0;36mtimeit\u001b[0;34m(self, number)\u001b[0m\n\u001b[1;32m    167\u001b[0m         \u001b[0mgc\u001b[0m\u001b[0;34m.\u001b[0m\u001b[0mdisable\u001b[0m\u001b[0;34m(\u001b[0m\u001b[0;34m)\u001b[0m\u001b[0;34m\u001b[0m\u001b[0;34m\u001b[0m\u001b[0m\n\u001b[1;32m    168\u001b[0m         \u001b[0;32mtry\u001b[0m\u001b[0;34m:\u001b[0m\u001b[0;34m\u001b[0m\u001b[0;34m\u001b[0m\u001b[0m\n\u001b[0;32m--> 169\u001b[0;31m             \u001b[0mtiming\u001b[0m \u001b[0;34m=\u001b[0m \u001b[0mself\u001b[0m\u001b[0;34m.\u001b[0m\u001b[0minner\u001b[0m\u001b[0;34m(\u001b[0m\u001b[0mit\u001b[0m\u001b[0;34m,\u001b[0m \u001b[0mself\u001b[0m\u001b[0;34m.\u001b[0m\u001b[0mtimer\u001b[0m\u001b[0;34m)\u001b[0m\u001b[0;34m\u001b[0m\u001b[0;34m\u001b[0m\u001b[0m\n\u001b[0m\u001b[1;32m    170\u001b[0m         \u001b[0;32mfinally\u001b[0m\u001b[0;34m:\u001b[0m\u001b[0;34m\u001b[0m\u001b[0;34m\u001b[0m\u001b[0m\n\u001b[1;32m    171\u001b[0m             \u001b[0;32mif\u001b[0m \u001b[0mgcold\u001b[0m\u001b[0;34m:\u001b[0m\u001b[0;34m\u001b[0m\u001b[0;34m\u001b[0m\u001b[0m\n",
      "\u001b[0;32m<magic-timeit>\u001b[0m in \u001b[0;36minner\u001b[0;34m(_it, _timer)\u001b[0m\n",
      "\u001b[0;32m<ipython-input-213-0a5822cfe17a>\u001b[0m in \u001b[0;36mget_CUR_ridge\u001b[0;34m(A, k)\u001b[0m\n\u001b[1;32m     27\u001b[0m \u001b[0;34m\u001b[0m\u001b[0m\n\u001b[1;32m     28\u001b[0m \u001b[0;32mdef\u001b[0m \u001b[0mget_CUR_ridge\u001b[0m\u001b[0;34m(\u001b[0m\u001b[0mA\u001b[0m\u001b[0;34m,\u001b[0m \u001b[0mk\u001b[0m\u001b[0;34m)\u001b[0m\u001b[0;34m:\u001b[0m\u001b[0;34m\u001b[0m\u001b[0;34m\u001b[0m\u001b[0m\n\u001b[0;32m---> 29\u001b[0;31m     \u001b[0mC\u001b[0m\u001b[0;34m,\u001b[0m \u001b[0mcol_ind\u001b[0m \u001b[0;34m=\u001b[0m \u001b[0mridge_sampling\u001b[0m\u001b[0;34m(\u001b[0m\u001b[0mA\u001b[0m\u001b[0;34m,\u001b[0m \u001b[0mk\u001b[0m\u001b[0;34m)\u001b[0m\u001b[0;34m\u001b[0m\u001b[0;34m\u001b[0m\u001b[0m\n\u001b[0m\u001b[1;32m     30\u001b[0m     \u001b[0mR\u001b[0m\u001b[0;34m,\u001b[0m \u001b[0mrow_ind\u001b[0m \u001b[0;34m=\u001b[0m \u001b[0mridge_sampling\u001b[0m\u001b[0;34m(\u001b[0m\u001b[0mA\u001b[0m\u001b[0;34m.\u001b[0m\u001b[0mT\u001b[0m\u001b[0;34m,\u001b[0m \u001b[0mk\u001b[0m\u001b[0;34m)\u001b[0m\u001b[0;34m\u001b[0m\u001b[0;34m\u001b[0m\u001b[0m\n\u001b[1;32m     31\u001b[0m     \u001b[0mR\u001b[0m \u001b[0;34m=\u001b[0m \u001b[0mR\u001b[0m\u001b[0;34m.\u001b[0m\u001b[0mT\u001b[0m\u001b[0;34m\u001b[0m\u001b[0;34m\u001b[0m\u001b[0m\n",
      "\u001b[0;32m<ipython-input-213-0a5822cfe17a>\u001b[0m in \u001b[0;36mridge_sampling\u001b[0;34m(A, t)\u001b[0m\n\u001b[1;32m      4\u001b[0m     \u001b[0mCu\u001b[0m \u001b[0;34m=\u001b[0m \u001b[0mA\u001b[0m\u001b[0;34m[\u001b[0m\u001b[0;34m:\u001b[0m\u001b[0;34m,\u001b[0m \u001b[0mindexes\u001b[0m\u001b[0;34m]\u001b[0m\u001b[0;34m\u001b[0m\u001b[0;34m\u001b[0m\u001b[0m\n\u001b[1;32m      5\u001b[0m     \u001b[0;32mif\u001b[0m \u001b[0mCu\u001b[0m\u001b[0;34m.\u001b[0m\u001b[0mshape\u001b[0m\u001b[0;34m[\u001b[0m\u001b[0;36m1\u001b[0m\u001b[0;34m]\u001b[0m \u001b[0;34m//\u001b[0m \u001b[0;36m2\u001b[0m \u001b[0;34m>\u001b[0m \u001b[0;36m5\u001b[0m \u001b[0;34m*\u001b[0m \u001b[0mt\u001b[0m\u001b[0;34m:\u001b[0m\u001b[0;34m\u001b[0m\u001b[0;34m\u001b[0m\u001b[0m\n\u001b[0;32m----> 6\u001b[0;31m         \u001b[0mCu\u001b[0m\u001b[0;34m,\u001b[0m \u001b[0mindexes\u001b[0m \u001b[0;34m=\u001b[0m \u001b[0mridge_sampling\u001b[0m\u001b[0;34m(\u001b[0m\u001b[0mCu\u001b[0m\u001b[0;34m,\u001b[0m \u001b[0mint\u001b[0m\u001b[0;34m(\u001b[0m\u001b[0;36m5\u001b[0m \u001b[0;34m*\u001b[0m \u001b[0mt\u001b[0m\u001b[0;34m)\u001b[0m\u001b[0;34m)\u001b[0m\u001b[0;34m\u001b[0m\u001b[0;34m\u001b[0m\u001b[0m\n\u001b[0m\u001b[1;32m      7\u001b[0m \u001b[0;34m\u001b[0m\u001b[0m\n\u001b[1;32m      8\u001b[0m     \u001b[0mk\u001b[0m \u001b[0;34m=\u001b[0m \u001b[0mint\u001b[0m\u001b[0;34m(\u001b[0m\u001b[0mnp\u001b[0m\u001b[0;34m.\u001b[0m\u001b[0mexp\u001b[0m\u001b[0;34m(\u001b[0m\u001b[0mlambertw\u001b[0m\u001b[0;34m(\u001b[0m\u001b[0mt\u001b[0m\u001b[0;34m)\u001b[0m\u001b[0;34m)\u001b[0m\u001b[0;34m.\u001b[0m\u001b[0mreal\u001b[0m\u001b[0;34m)\u001b[0m\u001b[0;34m\u001b[0m\u001b[0;34m\u001b[0m\u001b[0m\n",
      "\u001b[0;32m<ipython-input-213-0a5822cfe17a>\u001b[0m in \u001b[0;36mridge_sampling\u001b[0;34m(A, t)\u001b[0m\n\u001b[1;32m     14\u001b[0m \u001b[0;34m\u001b[0m\u001b[0m\n\u001b[1;32m     15\u001b[0m     \u001b[0mlmbda\u001b[0m \u001b[0;34m=\u001b[0m \u001b[0mnp\u001b[0m\u001b[0;34m.\u001b[0m\u001b[0mlinalg\u001b[0m\u001b[0;34m.\u001b[0m\u001b[0mnorm\u001b[0m\u001b[0;34m(\u001b[0m\u001b[0mCu\u001b[0m \u001b[0;34m-\u001b[0m \u001b[0;34m(\u001b[0m\u001b[0mU\u001b[0m \u001b[0;34m*\u001b[0m \u001b[0ms\u001b[0m\u001b[0;34m)\u001b[0m \u001b[0;34m@\u001b[0m \u001b[0mVt\u001b[0m\u001b[0;34m)\u001b[0m \u001b[0;34m**\u001b[0m \u001b[0;36m2\u001b[0m \u001b[0;34m/\u001b[0m \u001b[0mk\u001b[0m\u001b[0;34m\u001b[0m\u001b[0;34m\u001b[0m\u001b[0m\n\u001b[0;32m---> 16\u001b[0;31m     \u001b[0mmatrix_for_scores\u001b[0m \u001b[0;34m=\u001b[0m \u001b[0mnp\u001b[0m\u001b[0;34m.\u001b[0m\u001b[0mlinalg\u001b[0m\u001b[0;34m.\u001b[0m\u001b[0mpinv\u001b[0m\u001b[0;34m(\u001b[0m\u001b[0mCu\u001b[0m \u001b[0;34m@\u001b[0m \u001b[0mCu\u001b[0m\u001b[0;34m.\u001b[0m\u001b[0mT\u001b[0m \u001b[0;34m+\u001b[0m \u001b[0mlmbda\u001b[0m \u001b[0;34m*\u001b[0m \u001b[0mnp\u001b[0m\u001b[0;34m.\u001b[0m\u001b[0meye\u001b[0m\u001b[0;34m(\u001b[0m\u001b[0mCu\u001b[0m\u001b[0;34m.\u001b[0m\u001b[0mshape\u001b[0m\u001b[0;34m[\u001b[0m\u001b[0;36m0\u001b[0m\u001b[0;34m]\u001b[0m\u001b[0;34m)\u001b[0m\u001b[0;34m)\u001b[0m\u001b[0;34m\u001b[0m\u001b[0;34m\u001b[0m\u001b[0m\n\u001b[0m\u001b[1;32m     17\u001b[0m \u001b[0;34m\u001b[0m\u001b[0m\n\u001b[1;32m     18\u001b[0m     \u001b[0mridge_scores\u001b[0m \u001b[0;34m=\u001b[0m \u001b[0mnp\u001b[0m\u001b[0;34m.\u001b[0m\u001b[0mzeros\u001b[0m\u001b[0;34m(\u001b[0m\u001b[0mCu\u001b[0m\u001b[0;34m.\u001b[0m\u001b[0mshape\u001b[0m\u001b[0;34m[\u001b[0m\u001b[0;36m1\u001b[0m\u001b[0;34m]\u001b[0m\u001b[0;34m)\u001b[0m\u001b[0;34m\u001b[0m\u001b[0;34m\u001b[0m\u001b[0m\n",
      "\u001b[0;32m~/anaconda3/lib/python3.7/site-packages/numpy/linalg/linalg.py\u001b[0m in \u001b[0;36mpinv\u001b[0;34m(a, rcond)\u001b[0m\n\u001b[1;32m   1936\u001b[0m         \u001b[0;32mreturn\u001b[0m \u001b[0mwrap\u001b[0m\u001b[0;34m(\u001b[0m\u001b[0mres\u001b[0m\u001b[0;34m)\u001b[0m\u001b[0;34m\u001b[0m\u001b[0;34m\u001b[0m\u001b[0m\n\u001b[1;32m   1937\u001b[0m     \u001b[0ma\u001b[0m \u001b[0;34m=\u001b[0m \u001b[0ma\u001b[0m\u001b[0;34m.\u001b[0m\u001b[0mconjugate\u001b[0m\u001b[0;34m(\u001b[0m\u001b[0;34m)\u001b[0m\u001b[0;34m\u001b[0m\u001b[0;34m\u001b[0m\u001b[0m\n\u001b[0;32m-> 1938\u001b[0;31m     \u001b[0mu\u001b[0m\u001b[0;34m,\u001b[0m \u001b[0ms\u001b[0m\u001b[0;34m,\u001b[0m \u001b[0mvt\u001b[0m \u001b[0;34m=\u001b[0m \u001b[0msvd\u001b[0m\u001b[0;34m(\u001b[0m\u001b[0ma\u001b[0m\u001b[0;34m,\u001b[0m \u001b[0mfull_matrices\u001b[0m\u001b[0;34m=\u001b[0m\u001b[0;32mFalse\u001b[0m\u001b[0;34m)\u001b[0m\u001b[0;34m\u001b[0m\u001b[0;34m\u001b[0m\u001b[0m\n\u001b[0m\u001b[1;32m   1939\u001b[0m \u001b[0;34m\u001b[0m\u001b[0m\n\u001b[1;32m   1940\u001b[0m     \u001b[0;31m# discard small singular values\u001b[0m\u001b[0;34m\u001b[0m\u001b[0;34m\u001b[0m\u001b[0;34m\u001b[0m\u001b[0m\n",
      "\u001b[0;32m~/anaconda3/lib/python3.7/site-packages/numpy/linalg/linalg.py\u001b[0m in \u001b[0;36msvd\u001b[0;34m(a, full_matrices, compute_uv)\u001b[0m\n\u001b[1;32m   1610\u001b[0m \u001b[0;34m\u001b[0m\u001b[0m\n\u001b[1;32m   1611\u001b[0m         \u001b[0msignature\u001b[0m \u001b[0;34m=\u001b[0m \u001b[0;34m'D->DdD'\u001b[0m \u001b[0;32mif\u001b[0m \u001b[0misComplexType\u001b[0m\u001b[0;34m(\u001b[0m\u001b[0mt\u001b[0m\u001b[0;34m)\u001b[0m \u001b[0;32melse\u001b[0m \u001b[0;34m'd->ddd'\u001b[0m\u001b[0;34m\u001b[0m\u001b[0;34m\u001b[0m\u001b[0m\n\u001b[0;32m-> 1612\u001b[0;31m         \u001b[0mu\u001b[0m\u001b[0;34m,\u001b[0m \u001b[0ms\u001b[0m\u001b[0;34m,\u001b[0m \u001b[0mvh\u001b[0m \u001b[0;34m=\u001b[0m \u001b[0mgufunc\u001b[0m\u001b[0;34m(\u001b[0m\u001b[0ma\u001b[0m\u001b[0;34m,\u001b[0m \u001b[0msignature\u001b[0m\u001b[0;34m=\u001b[0m\u001b[0msignature\u001b[0m\u001b[0;34m,\u001b[0m \u001b[0mextobj\u001b[0m\u001b[0;34m=\u001b[0m\u001b[0mextobj\u001b[0m\u001b[0;34m)\u001b[0m\u001b[0;34m\u001b[0m\u001b[0;34m\u001b[0m\u001b[0m\n\u001b[0m\u001b[1;32m   1613\u001b[0m         \u001b[0mu\u001b[0m \u001b[0;34m=\u001b[0m \u001b[0mu\u001b[0m\u001b[0;34m.\u001b[0m\u001b[0mastype\u001b[0m\u001b[0;34m(\u001b[0m\u001b[0mresult_t\u001b[0m\u001b[0;34m,\u001b[0m \u001b[0mcopy\u001b[0m\u001b[0;34m=\u001b[0m\u001b[0;32mFalse\u001b[0m\u001b[0;34m)\u001b[0m\u001b[0;34m\u001b[0m\u001b[0;34m\u001b[0m\u001b[0m\n\u001b[1;32m   1614\u001b[0m         \u001b[0ms\u001b[0m \u001b[0;34m=\u001b[0m \u001b[0ms\u001b[0m\u001b[0;34m.\u001b[0m\u001b[0mastype\u001b[0m\u001b[0;34m(\u001b[0m\u001b[0m_realType\u001b[0m\u001b[0;34m(\u001b[0m\u001b[0mresult_t\u001b[0m\u001b[0;34m)\u001b[0m\u001b[0;34m,\u001b[0m \u001b[0mcopy\u001b[0m\u001b[0;34m=\u001b[0m\u001b[0;32mFalse\u001b[0m\u001b[0;34m)\u001b[0m\u001b[0;34m\u001b[0m\u001b[0;34m\u001b[0m\u001b[0m\n",
      "\u001b[0;31mKeyboardInterrupt\u001b[0m: "
     ]
    }
   ],
   "source": [
    "# dense random matrix\n",
    "times = []\n",
    "\n",
    "print('SVD')\n",
    "res = %timeit -o -n1 -r3 get_trunc_SVD(A, k)\n",
    "times.append(res.average)\n",
    "print()\n",
    "\n",
    "print('Ridge')\n",
    "res = %timeit -o -n1 -r3 get_CUR_ridge(A, k)\n",
    "times.append(res.average)\n",
    "print()\n",
    "\n",
    "print('Stat. leverage')\n",
    "eps = 1\n",
    "res = %timeit -o -n1 -r3 CUR_leverage(A, k, eps)\n",
    "times.append(res.average)\n",
    "print()\n",
    "\n",
    "print('Quasi GS')\n",
    "res = %timeit -o -n1 -r3 SCR(A, k)\n",
    "times.append(res.average)\n",
    "print()\n",
    "\n",
    "print('Pseudo skeleton')\n",
    "res = %timeit -o -n1 -r3 rand_pseudo_skeleton(A, k)\n",
    "times.append(res.average)\n",
    "print()\n",
    "\n",
    "print('CUR approximation')\n",
    "res = %timeit -o -n1 -r3 get_CUR_approx(A, k)\n",
    "times.append(res.average)\n",
    "print()\n",
    "\n",
    "print('CUR norms')\n",
    "res = %timeit -o -n1 -r3 get_CUR_sample_l2_norm(A, k)\n",
    "times.append(res.average)\n",
    "print()\n",
    "\n",
    "print('Naive CUR')\n",
    "res = %timeit -o -n1 -r3 get_CUR_naive(A, k)\n",
    "times.append(res.average)\n",
    "print()\n",
    "\n",
    "for func in [maxvol_cols_probs]:\n",
    "    print(func)\n",
    "    res = %timeit -o -n1 -r3 get_CUR_maxvol(A, k, func)\n",
    "    times.append(res.average)\n",
    "    print()"
   ]
  },
  {
   "cell_type": "code",
   "execution_count": 302,
   "metadata": {},
   "outputs": [],
   "source": [
    "A = scipy.io.loadmat('./EPA.mat')\n",
    "A = A['Problem'][0][0][2] # csc matrix, full rank\n",
    "k = 500"
   ]
  },
  {
   "cell_type": "code",
   "execution_count": 283,
   "metadata": {},
   "outputs": [
    {
     "name": "stdout",
     "output_type": "stream",
     "text": [
      "SVD\n",
      "10.6 s ± 232 ms per loop (mean ± std. dev. of 3 runs, 1 loop each)\n",
      "\n",
      "Ridge rand\n",
      "41.6 s ± 3.57 s per loop (mean ± std. dev. of 3 runs, 1 loop each)\n",
      "\n",
      "Stat. leverage\n",
      "28.4 s ± 2 s per loop (mean ± std. dev. of 3 runs, 1 loop each)\n",
      "\n",
      "CUR norms\n",
      "929 ms ± 29.8 ms per loop (mean ± std. dev. of 3 runs, 1 loop each)\n",
      "\n",
      "Naive CUR\n",
      "706 ms ± 138 ms per loop (mean ± std. dev. of 3 runs, 1 loop each)\n",
      "\n"
     ]
    }
   ],
   "source": [
    "# sparse random matrix\n",
    "times = []\n",
    "\n",
    "print('SVD')\n",
    "res = %timeit -o -n1 -r3 get_trunc_SVD(A, k)\n",
    "times.append(res.average)\n",
    "print()\n",
    "\n",
    "print('Ridge rand')\n",
    "res = %timeit -o -n1 -r3 get_CUR_ridge_randomized(A, k)\n",
    "times.append(res.average)\n",
    "print()\n",
    "\n",
    "print('Stat. leverage')\n",
    "eps = 1\n",
    "res = %timeit -o -n1 -r3 CUR_leverage(A, k, eps)\n",
    "times.append(res.average)\n",
    "print()\n",
    "\n",
    "print('CUR norms')\n",
    "res = %timeit -o -n1 -r3 get_CUR_sample_l2_norm(A, k)\n",
    "times.append(res.average)\n",
    "print()\n",
    "\n",
    "print('Naive CUR')\n",
    "res = %timeit -o -n1 -r3 get_CUR_naive(A, k)\n",
    "times.append(res.average)\n",
    "print()"
   ]
  },
  {
   "cell_type": "code",
   "execution_count": 294,
   "metadata": {},
   "outputs": [
    {
     "name": "stdout",
     "output_type": "stream",
     "text": [
      "<function maxvol_cols_probs at 0x7f92116da378>\n",
      "53.76261219811394\n",
      "6.28 s ± 0 ns per loop (mean ± std. dev. of 1 run, 1 loop each)\n",
      "\n"
     ]
    }
   ],
   "source": [
    "for func in [maxvol_cols_probs]:\n",
    "    print(func)\n",
    "    res = %timeit -o -n1 -r1 get_CUR_maxvol(A, k, func)\n",
    "    times.append(res.average)\n",
    "    print()"
   ]
  },
  {
   "cell_type": "code",
   "execution_count": 304,
   "metadata": {},
   "outputs": [],
   "source": [
    "A = scipy.io.loadmat('./EVA.mat')\n",
    "A = A['Problem'][0][0][2] # csc matrix, full rank\n",
    "k = 700"
   ]
  },
  {
   "cell_type": "code",
   "execution_count": 285,
   "metadata": {},
   "outputs": [
    {
     "name": "stdout",
     "output_type": "stream",
     "text": [
      "SVD\n",
      "50.8 s ± 7.77 s per loop (mean ± std. dev. of 3 runs, 1 loop each)\n",
      "\n",
      "Ridge rand\n",
      "46.9 s ± 3.38 s per loop (mean ± std. dev. of 3 runs, 1 loop each)\n",
      "\n",
      "Stat. leverage\n",
      "1min 18s ± 8.6 s per loop (mean ± std. dev. of 3 runs, 1 loop each)\n",
      "\n",
      "CUR norms\n",
      "2.92 s ± 362 ms per loop (mean ± std. dev. of 3 runs, 1 loop each)\n",
      "\n",
      "Naive CUR\n",
      "2.6 s ± 157 ms per loop (mean ± std. dev. of 3 runs, 1 loop each)\n",
      "\n"
     ]
    }
   ],
   "source": [
    "# sparse random matrix\n",
    "times = []\n",
    "\n",
    "print('SVD')\n",
    "res = %timeit -o -n1 -r3 get_trunc_SVD(A, k)\n",
    "times.append(res.average)\n",
    "print()\n",
    "\n",
    "print('Ridge rand')\n",
    "res = %timeit -o -n1 -r3 get_CUR_ridge_randomized(A, k)\n",
    "times.append(res.average)\n",
    "print()\n",
    "\n",
    "print('Stat. leverage')\n",
    "eps = 1\n",
    "res = %timeit -o -n1 -r3 CUR_leverage(A, k, eps)\n",
    "times.append(res.average)\n",
    "print()\n",
    "\n",
    "print('CUR norms')\n",
    "res = %timeit -o -n1 -r3 get_CUR_sample_l2_norm(A, k)\n",
    "times.append(res.average)\n",
    "print()\n",
    "\n",
    "print('Naive CUR')\n",
    "res = %timeit -o -n1 -r3 get_CUR_naive(A, k)\n",
    "times.append(res.average)\n",
    "print()"
   ]
  },
  {
   "cell_type": "code",
   "execution_count": 299,
   "metadata": {},
   "outputs": [
    {
     "name": "stdout",
     "output_type": "stream",
     "text": [
      "<function maxvol_cols_probs at 0x7f92116da378>\n",
      "46.31561643581125\n",
      "2.12 s ± 0 ns per loop (mean ± std. dev. of 1 run, 1 loop each)\n",
      "\n"
     ]
    }
   ],
   "source": [
    "for func in [maxvol_cols_probs]:\n",
    "    print(func)\n",
    "    res = %timeit -o -n1 -r1 get_CUR_maxvol(A, k, func)\n",
    "    times.append(res.average)\n",
    "    print()"
   ]
  },
  {
   "cell_type": "code",
   "execution_count": 306,
   "metadata": {},
   "outputs": [],
   "source": [
    "A = scipy.io.loadmat('./California.mat')\n",
    "A = A['Problem'][0][0][2] # csc matrix, full rank\n",
    "k = 800"
   ]
  },
  {
   "cell_type": "code",
   "execution_count": 287,
   "metadata": {},
   "outputs": [
    {
     "name": "stdout",
     "output_type": "stream",
     "text": [
      "SVD\n",
      "1min 9s ± 7.17 s per loop (mean ± std. dev. of 3 runs, 1 loop each)\n",
      "\n",
      "Ridge rand\n",
      "50 s ± 2.98 s per loop (mean ± std. dev. of 3 runs, 1 loop each)\n",
      "\n",
      "Stat. leverage\n",
      "2min 26s ± 10.9 s per loop (mean ± std. dev. of 3 runs, 1 loop each)\n",
      "\n",
      "CUR norms\n",
      "3.65 s ± 223 ms per loop (mean ± std. dev. of 3 runs, 1 loop each)\n",
      "\n",
      "Naive CUR\n",
      "3 s ± 430 ms per loop (mean ± std. dev. of 3 runs, 1 loop each)\n",
      "\n"
     ]
    }
   ],
   "source": [
    "# sparse random matrix\n",
    "times = []\n",
    "\n",
    "print('SVD')\n",
    "res = %timeit -o -n1 -r3 get_trunc_SVD(A, k)\n",
    "times.append(res.average)\n",
    "print()\n",
    "\n",
    "print('Ridge rand')\n",
    "res = %timeit -o -n1 -r3 get_CUR_ridge_randomized(A, k)\n",
    "times.append(res.average)\n",
    "print()\n",
    "\n",
    "print('Stat. leverage')\n",
    "eps = 1\n",
    "res = %timeit -o -n1 -r3 CUR_leverage(A, k, eps)\n",
    "times.append(res.average)\n",
    "print()\n",
    "\n",
    "print('CUR norms')\n",
    "res = %timeit -o -n1 -r3 get_CUR_sample_l2_norm(A, k)\n",
    "times.append(res.average)\n",
    "print()\n",
    "\n",
    "print('Naive CUR')\n",
    "res = %timeit -o -n1 -r3 get_CUR_naive(A, k)\n",
    "times.append(res.average)\n",
    "print()"
   ]
  },
  {
   "cell_type": "code",
   "execution_count": 301,
   "metadata": {},
   "outputs": [
    {
     "name": "stdout",
     "output_type": "stream",
     "text": [
      "<function maxvol_cols_probs at 0x7f92116da378>\n",
      "67.73123970275225\n",
      "1min 13s ± 0 ns per loop (mean ± std. dev. of 1 run, 1 loop each)\n",
      "\n"
     ]
    }
   ],
   "source": [
    "for func in [maxvol_cols_probs]:\n",
    "    print(func)\n",
    "    res = %timeit -o -n1 -r1 get_CUR_maxvol(A, k, func)\n",
    "    times.append(res.average)\n",
    "    print()"
   ]
  },
  {
   "cell_type": "code",
   "execution_count": 248,
   "metadata": {
    "scrolled": true
   },
   "outputs": [
    {
     "name": "stdout",
     "output_type": "stream",
     "text": [
      "SVD\n",
      "95.3 ms ± 6.92 ms per loop (mean ± std. dev. of 3 runs, 1 loop each)\n",
      "\n",
      "Ridge rand\n",
      "1min 11s ± 4.71 s per loop (mean ± std. dev. of 3 runs, 1 loop each)\n",
      "\n",
      "Stat. leverage\n",
      "1.05 s ± 161 ms per loop (mean ± std. dev. of 3 runs, 1 loop each)\n",
      "\n",
      "Pseudo skeleton\n",
      "3.84 ms ± 337 µs per loop (mean ± std. dev. of 3 runs, 1 loop each)\n",
      "\n",
      "CUR norms\n",
      "806 ms ± 10.8 ms per loop (mean ± std. dev. of 3 runs, 1 loop each)\n",
      "\n",
      "Naive CUR\n",
      "874 ms ± 10.1 ms per loop (mean ± std. dev. of 3 runs, 1 loop each)\n",
      "\n",
      "<function maxvol_cols_probs at 0x7f92119b4268>\n",
      "15.3 s ± 187 ms per loop (mean ± std. dev. of 3 runs, 1 loop each)\n",
      "\n",
      "<function maxvol_statistical at 0x7f9212579620>\n"
     ]
    },
    {
     "ename": "ValueError",
     "evalue": "k must be between 1 and min(A.shape), k=30",
     "output_type": "error",
     "traceback": [
      "\u001b[0;31m---------------------------------------------------------------------------\u001b[0m",
      "\u001b[0;31mValueError\u001b[0m                                Traceback (most recent call last)",
      "\u001b[0;32m<ipython-input-248-7411122fe2ec>\u001b[0m in \u001b[0;36m<module>\u001b[0;34m\u001b[0m\n\u001b[1;32m     35\u001b[0m \u001b[0;32mfor\u001b[0m \u001b[0mfunc\u001b[0m \u001b[0;32min\u001b[0m \u001b[0;34m[\u001b[0m\u001b[0mmaxvol_cols_probs\u001b[0m\u001b[0;34m,\u001b[0m \u001b[0mmaxvol_statistical\u001b[0m\u001b[0;34m]\u001b[0m\u001b[0;34m:\u001b[0m\u001b[0;34m\u001b[0m\u001b[0;34m\u001b[0m\u001b[0m\n\u001b[1;32m     36\u001b[0m     \u001b[0mprint\u001b[0m\u001b[0;34m(\u001b[0m\u001b[0mfunc\u001b[0m\u001b[0;34m)\u001b[0m\u001b[0;34m\u001b[0m\u001b[0;34m\u001b[0m\u001b[0m\n\u001b[0;32m---> 37\u001b[0;31m     \u001b[0mres\u001b[0m \u001b[0;34m=\u001b[0m \u001b[0mget_ipython\u001b[0m\u001b[0;34m(\u001b[0m\u001b[0;34m)\u001b[0m\u001b[0;34m.\u001b[0m\u001b[0mrun_line_magic\u001b[0m\u001b[0;34m(\u001b[0m\u001b[0;34m'timeit'\u001b[0m\u001b[0;34m,\u001b[0m \u001b[0;34m'-o -n1 -r3 get_CUR_maxvol(A, k, func)'\u001b[0m\u001b[0;34m)\u001b[0m\u001b[0;34m\u001b[0m\u001b[0;34m\u001b[0m\u001b[0m\n\u001b[0m\u001b[1;32m     38\u001b[0m     \u001b[0mtimes\u001b[0m\u001b[0;34m.\u001b[0m\u001b[0mappend\u001b[0m\u001b[0;34m(\u001b[0m\u001b[0mres\u001b[0m\u001b[0;34m.\u001b[0m\u001b[0maverage\u001b[0m\u001b[0;34m)\u001b[0m\u001b[0;34m\u001b[0m\u001b[0;34m\u001b[0m\u001b[0m\n\u001b[1;32m     39\u001b[0m     \u001b[0mprint\u001b[0m\u001b[0;34m(\u001b[0m\u001b[0;34m)\u001b[0m\u001b[0;34m\u001b[0m\u001b[0;34m\u001b[0m\u001b[0m\n",
      "\u001b[0;32m~/anaconda3/lib/python3.7/site-packages/IPython/core/interactiveshell.py\u001b[0m in \u001b[0;36mrun_line_magic\u001b[0;34m(self, magic_name, line, _stack_depth)\u001b[0m\n\u001b[1;32m   2311\u001b[0m                 \u001b[0mkwargs\u001b[0m\u001b[0;34m[\u001b[0m\u001b[0;34m'local_ns'\u001b[0m\u001b[0;34m]\u001b[0m \u001b[0;34m=\u001b[0m \u001b[0msys\u001b[0m\u001b[0;34m.\u001b[0m\u001b[0m_getframe\u001b[0m\u001b[0;34m(\u001b[0m\u001b[0mstack_depth\u001b[0m\u001b[0;34m)\u001b[0m\u001b[0;34m.\u001b[0m\u001b[0mf_locals\u001b[0m\u001b[0;34m\u001b[0m\u001b[0;34m\u001b[0m\u001b[0m\n\u001b[1;32m   2312\u001b[0m             \u001b[0;32mwith\u001b[0m \u001b[0mself\u001b[0m\u001b[0;34m.\u001b[0m\u001b[0mbuiltin_trap\u001b[0m\u001b[0;34m:\u001b[0m\u001b[0;34m\u001b[0m\u001b[0;34m\u001b[0m\u001b[0m\n\u001b[0;32m-> 2313\u001b[0;31m                 \u001b[0mresult\u001b[0m \u001b[0;34m=\u001b[0m \u001b[0mfn\u001b[0m\u001b[0;34m(\u001b[0m\u001b[0;34m*\u001b[0m\u001b[0margs\u001b[0m\u001b[0;34m,\u001b[0m \u001b[0;34m**\u001b[0m\u001b[0mkwargs\u001b[0m\u001b[0;34m)\u001b[0m\u001b[0;34m\u001b[0m\u001b[0;34m\u001b[0m\u001b[0m\n\u001b[0m\u001b[1;32m   2314\u001b[0m             \u001b[0;32mreturn\u001b[0m \u001b[0mresult\u001b[0m\u001b[0;34m\u001b[0m\u001b[0;34m\u001b[0m\u001b[0m\n\u001b[1;32m   2315\u001b[0m \u001b[0;34m\u001b[0m\u001b[0m\n",
      "\u001b[0;32m</home/dasha/anaconda3/lib/python3.7/site-packages/decorator.py:decorator-gen-60>\u001b[0m in \u001b[0;36mtimeit\u001b[0;34m(self, line, cell, local_ns)\u001b[0m\n",
      "\u001b[0;32m~/anaconda3/lib/python3.7/site-packages/IPython/core/magic.py\u001b[0m in \u001b[0;36m<lambda>\u001b[0;34m(f, *a, **k)\u001b[0m\n\u001b[1;32m    185\u001b[0m     \u001b[0;31m# but it's overkill for just that one bit of state.\u001b[0m\u001b[0;34m\u001b[0m\u001b[0;34m\u001b[0m\u001b[0;34m\u001b[0m\u001b[0m\n\u001b[1;32m    186\u001b[0m     \u001b[0;32mdef\u001b[0m \u001b[0mmagic_deco\u001b[0m\u001b[0;34m(\u001b[0m\u001b[0marg\u001b[0m\u001b[0;34m)\u001b[0m\u001b[0;34m:\u001b[0m\u001b[0;34m\u001b[0m\u001b[0;34m\u001b[0m\u001b[0m\n\u001b[0;32m--> 187\u001b[0;31m         \u001b[0mcall\u001b[0m \u001b[0;34m=\u001b[0m \u001b[0;32mlambda\u001b[0m \u001b[0mf\u001b[0m\u001b[0;34m,\u001b[0m \u001b[0;34m*\u001b[0m\u001b[0ma\u001b[0m\u001b[0;34m,\u001b[0m \u001b[0;34m**\u001b[0m\u001b[0mk\u001b[0m\u001b[0;34m:\u001b[0m \u001b[0mf\u001b[0m\u001b[0;34m(\u001b[0m\u001b[0;34m*\u001b[0m\u001b[0ma\u001b[0m\u001b[0;34m,\u001b[0m \u001b[0;34m**\u001b[0m\u001b[0mk\u001b[0m\u001b[0;34m)\u001b[0m\u001b[0;34m\u001b[0m\u001b[0;34m\u001b[0m\u001b[0m\n\u001b[0m\u001b[1;32m    188\u001b[0m \u001b[0;34m\u001b[0m\u001b[0m\n\u001b[1;32m    189\u001b[0m         \u001b[0;32mif\u001b[0m \u001b[0mcallable\u001b[0m\u001b[0;34m(\u001b[0m\u001b[0marg\u001b[0m\u001b[0;34m)\u001b[0m\u001b[0;34m:\u001b[0m\u001b[0;34m\u001b[0m\u001b[0;34m\u001b[0m\u001b[0m\n",
      "\u001b[0;32m~/anaconda3/lib/python3.7/site-packages/IPython/core/magics/execution.py\u001b[0m in \u001b[0;36mtimeit\u001b[0;34m(self, line, cell, local_ns)\u001b[0m\n\u001b[1;32m   1160\u001b[0m                     \u001b[0;32mbreak\u001b[0m\u001b[0;34m\u001b[0m\u001b[0;34m\u001b[0m\u001b[0m\n\u001b[1;32m   1161\u001b[0m \u001b[0;34m\u001b[0m\u001b[0m\n\u001b[0;32m-> 1162\u001b[0;31m         \u001b[0mall_runs\u001b[0m \u001b[0;34m=\u001b[0m \u001b[0mtimer\u001b[0m\u001b[0;34m.\u001b[0m\u001b[0mrepeat\u001b[0m\u001b[0;34m(\u001b[0m\u001b[0mrepeat\u001b[0m\u001b[0;34m,\u001b[0m \u001b[0mnumber\u001b[0m\u001b[0;34m)\u001b[0m\u001b[0;34m\u001b[0m\u001b[0;34m\u001b[0m\u001b[0m\n\u001b[0m\u001b[1;32m   1163\u001b[0m         \u001b[0mbest\u001b[0m \u001b[0;34m=\u001b[0m \u001b[0mmin\u001b[0m\u001b[0;34m(\u001b[0m\u001b[0mall_runs\u001b[0m\u001b[0;34m)\u001b[0m \u001b[0;34m/\u001b[0m \u001b[0mnumber\u001b[0m\u001b[0;34m\u001b[0m\u001b[0;34m\u001b[0m\u001b[0m\n\u001b[1;32m   1164\u001b[0m         \u001b[0mworst\u001b[0m \u001b[0;34m=\u001b[0m \u001b[0mmax\u001b[0m\u001b[0;34m(\u001b[0m\u001b[0mall_runs\u001b[0m\u001b[0;34m)\u001b[0m \u001b[0;34m/\u001b[0m \u001b[0mnumber\u001b[0m\u001b[0;34m\u001b[0m\u001b[0;34m\u001b[0m\u001b[0m\n",
      "\u001b[0;32m~/anaconda3/lib/python3.7/timeit.py\u001b[0m in \u001b[0;36mrepeat\u001b[0;34m(self, repeat, number)\u001b[0m\n\u001b[1;32m    202\u001b[0m         \u001b[0mr\u001b[0m \u001b[0;34m=\u001b[0m \u001b[0;34m[\u001b[0m\u001b[0;34m]\u001b[0m\u001b[0;34m\u001b[0m\u001b[0;34m\u001b[0m\u001b[0m\n\u001b[1;32m    203\u001b[0m         \u001b[0;32mfor\u001b[0m \u001b[0mi\u001b[0m \u001b[0;32min\u001b[0m \u001b[0mrange\u001b[0m\u001b[0;34m(\u001b[0m\u001b[0mrepeat\u001b[0m\u001b[0;34m)\u001b[0m\u001b[0;34m:\u001b[0m\u001b[0;34m\u001b[0m\u001b[0;34m\u001b[0m\u001b[0m\n\u001b[0;32m--> 204\u001b[0;31m             \u001b[0mt\u001b[0m \u001b[0;34m=\u001b[0m \u001b[0mself\u001b[0m\u001b[0;34m.\u001b[0m\u001b[0mtimeit\u001b[0m\u001b[0;34m(\u001b[0m\u001b[0mnumber\u001b[0m\u001b[0;34m)\u001b[0m\u001b[0;34m\u001b[0m\u001b[0;34m\u001b[0m\u001b[0m\n\u001b[0m\u001b[1;32m    205\u001b[0m             \u001b[0mr\u001b[0m\u001b[0;34m.\u001b[0m\u001b[0mappend\u001b[0m\u001b[0;34m(\u001b[0m\u001b[0mt\u001b[0m\u001b[0;34m)\u001b[0m\u001b[0;34m\u001b[0m\u001b[0;34m\u001b[0m\u001b[0m\n\u001b[1;32m    206\u001b[0m         \u001b[0;32mreturn\u001b[0m \u001b[0mr\u001b[0m\u001b[0;34m\u001b[0m\u001b[0;34m\u001b[0m\u001b[0m\n",
      "\u001b[0;32m~/anaconda3/lib/python3.7/site-packages/IPython/core/magics/execution.py\u001b[0m in \u001b[0;36mtimeit\u001b[0;34m(self, number)\u001b[0m\n\u001b[1;32m    167\u001b[0m         \u001b[0mgc\u001b[0m\u001b[0;34m.\u001b[0m\u001b[0mdisable\u001b[0m\u001b[0;34m(\u001b[0m\u001b[0;34m)\u001b[0m\u001b[0;34m\u001b[0m\u001b[0;34m\u001b[0m\u001b[0m\n\u001b[1;32m    168\u001b[0m         \u001b[0;32mtry\u001b[0m\u001b[0;34m:\u001b[0m\u001b[0;34m\u001b[0m\u001b[0;34m\u001b[0m\u001b[0m\n\u001b[0;32m--> 169\u001b[0;31m             \u001b[0mtiming\u001b[0m \u001b[0;34m=\u001b[0m \u001b[0mself\u001b[0m\u001b[0;34m.\u001b[0m\u001b[0minner\u001b[0m\u001b[0;34m(\u001b[0m\u001b[0mit\u001b[0m\u001b[0;34m,\u001b[0m \u001b[0mself\u001b[0m\u001b[0;34m.\u001b[0m\u001b[0mtimer\u001b[0m\u001b[0;34m)\u001b[0m\u001b[0;34m\u001b[0m\u001b[0;34m\u001b[0m\u001b[0m\n\u001b[0m\u001b[1;32m    170\u001b[0m         \u001b[0;32mfinally\u001b[0m\u001b[0;34m:\u001b[0m\u001b[0;34m\u001b[0m\u001b[0;34m\u001b[0m\u001b[0m\n\u001b[1;32m    171\u001b[0m             \u001b[0;32mif\u001b[0m \u001b[0mgcold\u001b[0m\u001b[0;34m:\u001b[0m\u001b[0;34m\u001b[0m\u001b[0;34m\u001b[0m\u001b[0m\n",
      "\u001b[0;32m<magic-timeit>\u001b[0m in \u001b[0;36minner\u001b[0;34m(_it, _timer)\u001b[0m\n",
      "\u001b[0;32m<ipython-input-209-c2019d91dc6f>\u001b[0m in \u001b[0;36mget_CUR_maxvol\u001b[0;34m(A, k, func)\u001b[0m\n\u001b[1;32m      2\u001b[0m     \u001b[0mrows\u001b[0m \u001b[0;34m=\u001b[0m \u001b[0mfunc\u001b[0m\u001b[0;34m(\u001b[0m\u001b[0mA\u001b[0m\u001b[0;34m,\u001b[0m \u001b[0mk\u001b[0m\u001b[0;34m)\u001b[0m\u001b[0;34m\u001b[0m\u001b[0;34m\u001b[0m\u001b[0m\n\u001b[1;32m      3\u001b[0m     \u001b[0mR\u001b[0m \u001b[0;34m=\u001b[0m \u001b[0mA\u001b[0m\u001b[0;34m[\u001b[0m\u001b[0mrows\u001b[0m\u001b[0;34m]\u001b[0m\u001b[0;34m\u001b[0m\u001b[0;34m\u001b[0m\u001b[0m\n\u001b[0;32m----> 4\u001b[0;31m     \u001b[0mcols\u001b[0m \u001b[0;34m=\u001b[0m \u001b[0mfunc\u001b[0m\u001b[0;34m(\u001b[0m\u001b[0mR\u001b[0m\u001b[0;34m.\u001b[0m\u001b[0mT\u001b[0m\u001b[0;34m,\u001b[0m \u001b[0mk\u001b[0m\u001b[0;34m)\u001b[0m\u001b[0;34m\u001b[0m\u001b[0;34m\u001b[0m\u001b[0m\n\u001b[0m\u001b[1;32m      5\u001b[0m     \u001b[0mC\u001b[0m \u001b[0;34m=\u001b[0m \u001b[0mA\u001b[0m\u001b[0;34m[\u001b[0m\u001b[0;34m:\u001b[0m\u001b[0;34m,\u001b[0m \u001b[0mcols\u001b[0m\u001b[0;34m]\u001b[0m\u001b[0;34m\u001b[0m\u001b[0;34m\u001b[0m\u001b[0m\n\u001b[1;32m      6\u001b[0m     \u001b[0;32mif\u001b[0m \u001b[0mscipy\u001b[0m\u001b[0;34m.\u001b[0m\u001b[0msparse\u001b[0m\u001b[0;34m.\u001b[0m\u001b[0missparse\u001b[0m\u001b[0;34m(\u001b[0m\u001b[0mA\u001b[0m\u001b[0;34m)\u001b[0m\u001b[0;34m:\u001b[0m\u001b[0;34m\u001b[0m\u001b[0;34m\u001b[0m\u001b[0m\n",
      "\u001b[0;32m<ipython-input-242-c6f7cb3eeb80>\u001b[0m in \u001b[0;36mmaxvol_statistical\u001b[0;34m(data, r)\u001b[0m\n\u001b[1;32m     49\u001b[0m         \u001b[0mA\u001b[0m \u001b[0;34m=\u001b[0m \u001b[0mspsp\u001b[0m\u001b[0;34m.\u001b[0m\u001b[0mlil\u001b[0m\u001b[0;34m.\u001b[0m\u001b[0mlil_matrix\u001b[0m\u001b[0;34m(\u001b[0m\u001b[0mA\u001b[0m\u001b[0;34m)\u001b[0m\u001b[0;34m\u001b[0m\u001b[0;34m\u001b[0m\u001b[0m\n\u001b[1;32m     50\u001b[0m \u001b[0;34m\u001b[0m\u001b[0m\n\u001b[0;32m---> 51\u001b[0;31m     \u001b[0m_\u001b[0m\u001b[0;34m,\u001b[0m \u001b[0mrows\u001b[0m \u001b[0;34m=\u001b[0m \u001b[0mColumnSelect\u001b[0m\u001b[0;34m(\u001b[0m\u001b[0mA\u001b[0m\u001b[0;34m.\u001b[0m\u001b[0mT\u001b[0m\u001b[0;34m,\u001b[0m \u001b[0mr\u001b[0m\u001b[0;34m,\u001b[0m \u001b[0;36m1\u001b[0m\u001b[0;34m)\u001b[0m \u001b[0;31m# sample rows\u001b[0m\u001b[0;34m\u001b[0m\u001b[0;34m\u001b[0m\u001b[0m\n\u001b[0m\u001b[1;32m     52\u001b[0m     \u001b[0;32mif\u001b[0m \u001b[0mA\u001b[0m\u001b[0;34m.\u001b[0m\u001b[0mshape\u001b[0m\u001b[0;34m[\u001b[0m\u001b[0;36m1\u001b[0m\u001b[0;34m]\u001b[0m \u001b[0;34m>\u001b[0m \u001b[0mr\u001b[0m\u001b[0;34m:\u001b[0m\u001b[0;34m\u001b[0m\u001b[0;34m\u001b[0m\u001b[0m\n\u001b[1;32m     53\u001b[0m         \u001b[0mA\u001b[0m\u001b[0;34m,\u001b[0m \u001b[0mcols\u001b[0m \u001b[0;34m=\u001b[0m \u001b[0mColumnSelect\u001b[0m\u001b[0;34m(\u001b[0m\u001b[0mA\u001b[0m\u001b[0;34m,\u001b[0m \u001b[0mr\u001b[0m\u001b[0;34m,\u001b[0m \u001b[0;36m1\u001b[0m\u001b[0;34m)\u001b[0m\u001b[0;34m\u001b[0m\u001b[0;34m\u001b[0m\u001b[0m\n",
      "\u001b[0;32m<ipython-input-144-b5edfd1b47d2>\u001b[0m in \u001b[0;36mColumnSelect\u001b[0;34m(A, k, eps)\u001b[0m\n\u001b[1;32m      5\u001b[0m         \u001b[0mv\u001b[0m \u001b[0;34m=\u001b[0m \u001b[0mvh\u001b[0m\u001b[0;34m[\u001b[0m\u001b[0;34m:\u001b[0m\u001b[0mk\u001b[0m\u001b[0;34m,\u001b[0m\u001b[0;34m:\u001b[0m\u001b[0;34m]\u001b[0m\u001b[0;34m\u001b[0m\u001b[0;34m\u001b[0m\u001b[0m\n\u001b[1;32m      6\u001b[0m     \u001b[0;32melse\u001b[0m\u001b[0;34m:\u001b[0m\u001b[0;34m\u001b[0m\u001b[0;34m\u001b[0m\u001b[0m\n\u001b[0;32m----> 7\u001b[0;31m         \u001b[0mu\u001b[0m\u001b[0;34m,\u001b[0m \u001b[0ms\u001b[0m\u001b[0;34m,\u001b[0m \u001b[0mv\u001b[0m \u001b[0;34m=\u001b[0m \u001b[0mscipy\u001b[0m\u001b[0;34m.\u001b[0m\u001b[0msparse\u001b[0m\u001b[0;34m.\u001b[0m\u001b[0mlinalg\u001b[0m\u001b[0;34m.\u001b[0m\u001b[0msvds\u001b[0m\u001b[0;34m(\u001b[0m\u001b[0mA\u001b[0m\u001b[0;34m,\u001b[0m \u001b[0mk\u001b[0m\u001b[0;34m=\u001b[0m\u001b[0mk\u001b[0m\u001b[0;34m)\u001b[0m\u001b[0;34m\u001b[0m\u001b[0;34m\u001b[0m\u001b[0m\n\u001b[0m\u001b[1;32m      8\u001b[0m \u001b[0;34m\u001b[0m\u001b[0m\n\u001b[1;32m      9\u001b[0m     \u001b[0mv_squared\u001b[0m \u001b[0;34m=\u001b[0m \u001b[0mnp\u001b[0m\u001b[0;34m.\u001b[0m\u001b[0msquare\u001b[0m\u001b[0;34m(\u001b[0m\u001b[0mv\u001b[0m\u001b[0;34m)\u001b[0m\u001b[0;34m\u001b[0m\u001b[0;34m\u001b[0m\u001b[0m\n",
      "\u001b[0;32m~/anaconda3/lib/python3.7/site-packages/scipy/sparse/linalg/eigen/arpack/arpack.py\u001b[0m in \u001b[0;36msvds\u001b[0;34m(A, k, ncv, tol, which, v0, maxiter, return_singular_vectors)\u001b[0m\n\u001b[1;32m   1784\u001b[0m \u001b[0;34m\u001b[0m\u001b[0m\n\u001b[1;32m   1785\u001b[0m     \u001b[0;32mif\u001b[0m \u001b[0mk\u001b[0m \u001b[0;34m<=\u001b[0m \u001b[0;36m0\u001b[0m \u001b[0;32mor\u001b[0m \u001b[0mk\u001b[0m \u001b[0;34m>=\u001b[0m \u001b[0mmin\u001b[0m\u001b[0;34m(\u001b[0m\u001b[0mn\u001b[0m\u001b[0;34m,\u001b[0m \u001b[0mm\u001b[0m\u001b[0;34m)\u001b[0m\u001b[0;34m:\u001b[0m\u001b[0;34m\u001b[0m\u001b[0;34m\u001b[0m\u001b[0m\n\u001b[0;32m-> 1786\u001b[0;31m         \u001b[0;32mraise\u001b[0m \u001b[0mValueError\u001b[0m\u001b[0;34m(\u001b[0m\u001b[0;34m\"k must be between 1 and min(A.shape), k=%d\"\u001b[0m \u001b[0;34m%\u001b[0m \u001b[0mk\u001b[0m\u001b[0;34m)\u001b[0m\u001b[0;34m\u001b[0m\u001b[0;34m\u001b[0m\u001b[0m\n\u001b[0m\u001b[1;32m   1787\u001b[0m \u001b[0;34m\u001b[0m\u001b[0m\n\u001b[1;32m   1788\u001b[0m     \u001b[0;32mif\u001b[0m \u001b[0misinstance\u001b[0m\u001b[0;34m(\u001b[0m\u001b[0mA\u001b[0m\u001b[0;34m,\u001b[0m \u001b[0mLinearOperator\u001b[0m\u001b[0;34m)\u001b[0m\u001b[0;34m:\u001b[0m\u001b[0;34m\u001b[0m\u001b[0;34m\u001b[0m\u001b[0m\n",
      "\u001b[0;31mValueError\u001b[0m: k must be between 1 and min(A.shape), k=30"
     ]
    }
   ],
   "source": [
    "# movielens\n",
    "times = []\n",
    "\n",
    "print('SVD')\n",
    "res = %timeit -o -n1 -r3 get_trunc_SVD(A, k)\n",
    "times.append(res.average)\n",
    "print()\n",
    "\n",
    "print('Ridge rand')\n",
    "res = %timeit -o -n1 -r3 get_CUR_ridge_randomized(A, k)\n",
    "times.append(res.average)\n",
    "print()\n",
    "\n",
    "print('Stat. leverage')\n",
    "eps = 1\n",
    "res = %timeit -o -n1 -r3 CUR_leverage(A, k, eps)\n",
    "times.append(res.average)\n",
    "print()\n",
    "\n",
    "print('Pseudo skeleton')\n",
    "res = %timeit -o -n1 -r3 rand_pseudo_skeleton(A, k)\n",
    "times.append(res.average)\n",
    "print()\n",
    "\n",
    "print('CUR norms')\n",
    "res = %timeit -o -n1 -r3 get_CUR_sample_l2_norm(A, k)\n",
    "times.append(res.average)\n",
    "print()\n",
    "\n",
    "print('Naive CUR')\n",
    "res = %timeit -o -n1 -r3 get_CUR_naive(A, k)\n",
    "times.append(res.average)\n",
    "print()\n",
    "\n",
    "for func in [maxvol_cols_probs]:\n",
    "    print(func)\n",
    "    res = %timeit -o -n1 -r3 get_CUR_maxvol(A, k, func)\n",
    "    times.append(res.average)\n",
    "    print()"
   ]
  },
  {
   "cell_type": "markdown",
   "metadata": {},
   "source": [
    "### Timing results"
   ]
  },
  {
   "cell_type": "code",
   "execution_count": 1,
   "metadata": {},
   "outputs": [],
   "source": [
    "import matplotlib.pyplot as plt\n",
    "%matplotlib inline"
   ]
  },
  {
   "cell_type": "code",
   "execution_count": 2,
   "metadata": {},
   "outputs": [],
   "source": [
    "k_values = [10, 50, 200, 350, 500, 650, 800, 950]\n",
    "svd_times = [0.0285, 0.164, 1.62, 2.89, 8.01, 10.2, 15.5, 40.3]\n",
    "naive_times = [0.0255, 0.0496, 0.403, 0.842, 1.38, 1.89, 6.05, 4.05]\n",
    "ridge_times = [64, 50.9, 56, 38.5, 38.2, 39.3, 57.3, 51.7]\n",
    "norm_times = [0.023, 0.099, 0.584, 0.917, 1.91, 2.35, 5.96, 3.88]\n",
    "statist_times = [0.236, 0.429, 2.61, 7.7, 16, 22.8, 49.1, 53.4]\n",
    "maxvol_times = [0.0875, 0.488, 26.5, 70, 102, 158, 249, 378]"
   ]
  },
  {
   "cell_type": "code",
   "execution_count": 3,
   "metadata": {},
   "outputs": [
    {
     "data": {
      "image/png": "[encoded data removed]",
      "text/plain": [
       "<Figure size 792x648 with 1 Axes>"
      ]
     },
     "metadata": {
      "needs_background": "light"
     },
     "output_type": "display_data"
    }
   ],
   "source": [
    "plt.figure(figsize=(11, 9))\n",
    "fontsize = 20\n",
    "plt.plot(k_values, svd_times, label='SVD', linewidth=3)\n",
    "plt.plot(k_values, naive_times, label='Naive sampling', linewidth=3)\n",
    "plt.plot(k_values, ridge_times, label='Ridge leverage', linewidth=3)\n",
    "plt.plot(k_values, norm_times, label='Norm sampling', linewidth=3)\n",
    "plt.plot(k_values, statist_times, label='Stat. leverage', linewidth=3)\n",
    "plt.plot(k_values, maxvol_times, label='Maxvol', linewidth=3)\n",
    "plt.legend(fontsize=fontsize)\n",
    "plt.xticks(fontsize=fontsize)\n",
    "plt.xlabel('k', fontsize=fontsize)\n",
    "plt.ylabel('time, s', fontsize=fontsize)\n",
    "plt.yticks(fontsize=fontsize)\n",
    "plt.yscale('log')\n",
    "plt.grid()\n",
    "plt.show()"
   ]
  },
  {
   "cell_type": "code",
   "execution_count": null,
   "metadata": {},
   "outputs": [],
   "source": []
  }
 ],
 "metadata": {
  "kernelspec": {
   "display_name": "Python 3",
   "language": "python",
   "name": "python3"
  },
  "language_info": {
   "codemirror_mode": {
    "name": "ipython",
    "version": 3
   },
   "file_extension": ".py",
   "mimetype": "text/x-python",
   "name": "python",
   "nbconvert_exporter": "python",
   "pygments_lexer": "ipython3",
   "version": "3.7.3"
  }
 },
 "nbformat": 4,
 "nbformat_minor": 2
}
